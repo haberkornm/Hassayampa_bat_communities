{
 "cells": [
  {
   "cell_type": "markdown",
   "metadata": {
    "toc": true
   },
   "source": [
    "<h1>Table of Contents<span class=\"tocSkip\"></span></h1>\n",
    "<div class=\"toc\"><ul class=\"toc-item\"><li><span><a href=\"#Introduction\" data-toc-modified-id=\"Introduction-1\"><span class=\"toc-item-num\">1&nbsp;&nbsp;</span>Introduction</a></span></li><li><span><a href=\"#Loading-and-Cleaning-Data\" data-toc-modified-id=\"Loading-and-Cleaning-Data-2\"><span class=\"toc-item-num\">2&nbsp;&nbsp;</span>Loading and Cleaning Data</a></span></li><li><span><a href=\"#Graphing-Individual-Species\" data-toc-modified-id=\"Graphing-Individual-Species-3\"><span class=\"toc-item-num\">3&nbsp;&nbsp;</span>Graphing Individual Species</a></span></li><li><span><a href=\"#Graphing-On-Single-Chart\" data-toc-modified-id=\"Graphing-On-Single-Chart-4\"><span class=\"toc-item-num\">4&nbsp;&nbsp;</span>Graphing On Single Chart</a></span></li><li><span><a href=\"#Hypothesis-Testing\" data-toc-modified-id=\"Hypothesis-Testing-5\"><span class=\"toc-item-num\">5&nbsp;&nbsp;</span>Hypothesis Testing</a></span><ul class=\"toc-item\"><li><span><a href=\"#KW-Test\" data-toc-modified-id=\"KW-Test-5.1\"><span class=\"toc-item-num\">5.1&nbsp;&nbsp;</span>KW Test</a></span><ul class=\"toc-item\"><li><span><a href=\"#Pair-wise-comparison-tests\" data-toc-modified-id=\"Pair-wise-comparison-tests-5.1.1\"><span class=\"toc-item-num\">5.1.1&nbsp;&nbsp;</span>Pair-wise comparison tests</a></span></li></ul></li></ul></li><li><span><a href=\"#MANOVA\" data-toc-modified-id=\"MANOVA-6\"><span class=\"toc-item-num\">6&nbsp;&nbsp;</span>MANOVA</a></span></li><li><span><a href=\"#Non-parametric-MANOVA\" data-toc-modified-id=\"Non-parametric-MANOVA-7\"><span class=\"toc-item-num\">7&nbsp;&nbsp;</span>Non-parametric MANOVA</a></span><ul class=\"toc-item\"><li><span><a href=\"#Rank-MANOVA-Pairwise-Comparison\" data-toc-modified-id=\"Rank-MANOVA-Pairwise-Comparison-7.1\"><span class=\"toc-item-num\">7.1&nbsp;&nbsp;</span>Rank-MANOVA Pairwise Comparison</a></span></li></ul></li><li><span><a href=\"#Conclusion\" data-toc-modified-id=\"Conclusion-8\"><span class=\"toc-item-num\">8&nbsp;&nbsp;</span>Conclusion</a></span></li></ul></div>"
   ]
  },
  {
   "cell_type": "markdown",
   "metadata": {},
   "source": [
    "# Introduction"
   ]
  },
  {
   "cell_type": "markdown",
   "metadata": {},
   "source": [
    "This project examined bat communities in five different habitats located within the Hassayampa River Preserve outside of Wickenburg, AZ within the Sonoran Desert.  Bat commuities were examined utilizing echolocation recordings made on a Wildlife Acoustics Song Meter Mini Bat in May and June of 2020.  The detector was set in each habitat for seven consecutive days during this time period.  Echolocation recordings were analyzed and classified utilizing Wildlife Acoustics Kaleidoscope Pro Software.  The habitats examined were 1. Cottonwood-willow riparian forest along a stream (known as Stream1 and Stream sites), 2. cottonwood-mesquite woodland (known as Cottonwood), 3. mesquite bosque (known as Mesquite), 4. pond shore lined with willow, cottonwood, and mesquite (known as Lake), and 5. willow, palm, mesquite, and cottonwood forest (known as Palm). In the notebook below the data is cleaned, graphed and hypothesis testing carried out."
   ]
  },
  {
   "cell_type": "markdown",
   "metadata": {},
   "source": [
    "# Loading and Cleaning Data"
   ]
  },
  {
   "cell_type": "code",
   "execution_count": 2,
   "metadata": {},
   "outputs": [],
   "source": [
    "import pandas as pd\n",
    "import numpy as np\n",
    "import matplotlib.pyplot as plt"
   ]
  },
  {
   "cell_type": "code",
   "execution_count": 3,
   "metadata": {},
   "outputs": [],
   "source": [
    "df = pd.read_csv('HassayampaBatHabitats.csv')"
   ]
  },
  {
   "cell_type": "code",
   "execution_count": 4,
   "metadata": {},
   "outputs": [
    {
     "data": {
      "text/html": [
       "<div>\n",
       "<style scoped>\n",
       "    .dataframe tbody tr th:only-of-type {\n",
       "        vertical-align: middle;\n",
       "    }\n",
       "\n",
       "    .dataframe tbody tr th {\n",
       "        vertical-align: top;\n",
       "    }\n",
       "\n",
       "    .dataframe thead th {\n",
       "        text-align: right;\n",
       "    }\n",
       "</style>\n",
       "<table border=\"1\" class=\"dataframe\">\n",
       "  <thead>\n",
       "    <tr style=\"text-align: right;\">\n",
       "      <th></th>\n",
       "      <th>Habitat</th>\n",
       "      <th>Date</th>\n",
       "      <th>ANTPAL</th>\n",
       "      <th>CORTOW</th>\n",
       "      <th>EPTFUS</th>\n",
       "      <th>EUDMAC</th>\n",
       "      <th>EUMPER</th>\n",
       "      <th>EUMUND</th>\n",
       "      <th>LASBLO</th>\n",
       "      <th>LASCIN</th>\n",
       "      <th>...</th>\n",
       "      <th>MYOTHY</th>\n",
       "      <th>MYOVEL</th>\n",
       "      <th>MYOVOL</th>\n",
       "      <th>MYOYUM</th>\n",
       "      <th>NYCFEM</th>\n",
       "      <th>NYCMAC</th>\n",
       "      <th>PARHES</th>\n",
       "      <th>TADBRA</th>\n",
       "      <th>NOID</th>\n",
       "      <th>NOISE</th>\n",
       "    </tr>\n",
       "  </thead>\n",
       "  <tbody>\n",
       "    <tr>\n",
       "      <th>0</th>\n",
       "      <td>Stream</td>\n",
       "      <td>20200522</td>\n",
       "      <td>15.0</td>\n",
       "      <td>NaN</td>\n",
       "      <td>18</td>\n",
       "      <td>NaN</td>\n",
       "      <td>NaN</td>\n",
       "      <td>NaN</td>\n",
       "      <td>NaN</td>\n",
       "      <td>3.0</td>\n",
       "      <td>...</td>\n",
       "      <td>1.0</td>\n",
       "      <td>22.0</td>\n",
       "      <td>14.0</td>\n",
       "      <td>9.0</td>\n",
       "      <td>1.0</td>\n",
       "      <td>NaN</td>\n",
       "      <td>3.0</td>\n",
       "      <td>61</td>\n",
       "      <td>210</td>\n",
       "      <td>127</td>\n",
       "    </tr>\n",
       "    <tr>\n",
       "      <th>1</th>\n",
       "      <td>Stream</td>\n",
       "      <td>20200523</td>\n",
       "      <td>13.0</td>\n",
       "      <td>NaN</td>\n",
       "      <td>37</td>\n",
       "      <td>NaN</td>\n",
       "      <td>1.0</td>\n",
       "      <td>NaN</td>\n",
       "      <td>4.0</td>\n",
       "      <td>1.0</td>\n",
       "      <td>...</td>\n",
       "      <td>1.0</td>\n",
       "      <td>7.0</td>\n",
       "      <td>3.0</td>\n",
       "      <td>2.0</td>\n",
       "      <td>1.0</td>\n",
       "      <td>NaN</td>\n",
       "      <td>1.0</td>\n",
       "      <td>11</td>\n",
       "      <td>138</td>\n",
       "      <td>107</td>\n",
       "    </tr>\n",
       "    <tr>\n",
       "      <th>2</th>\n",
       "      <td>Stream</td>\n",
       "      <td>20200524</td>\n",
       "      <td>25.0</td>\n",
       "      <td>NaN</td>\n",
       "      <td>39</td>\n",
       "      <td>NaN</td>\n",
       "      <td>NaN</td>\n",
       "      <td>NaN</td>\n",
       "      <td>6.0</td>\n",
       "      <td>NaN</td>\n",
       "      <td>...</td>\n",
       "      <td>NaN</td>\n",
       "      <td>8.0</td>\n",
       "      <td>8.0</td>\n",
       "      <td>11.0</td>\n",
       "      <td>NaN</td>\n",
       "      <td>NaN</td>\n",
       "      <td>5.0</td>\n",
       "      <td>37</td>\n",
       "      <td>222</td>\n",
       "      <td>128</td>\n",
       "    </tr>\n",
       "    <tr>\n",
       "      <th>3</th>\n",
       "      <td>Stream</td>\n",
       "      <td>20200525</td>\n",
       "      <td>38.0</td>\n",
       "      <td>NaN</td>\n",
       "      <td>56</td>\n",
       "      <td>NaN</td>\n",
       "      <td>NaN</td>\n",
       "      <td>NaN</td>\n",
       "      <td>3.0</td>\n",
       "      <td>4.0</td>\n",
       "      <td>...</td>\n",
       "      <td>NaN</td>\n",
       "      <td>13.0</td>\n",
       "      <td>3.0</td>\n",
       "      <td>5.0</td>\n",
       "      <td>1.0</td>\n",
       "      <td>NaN</td>\n",
       "      <td>3.0</td>\n",
       "      <td>26</td>\n",
       "      <td>175</td>\n",
       "      <td>93</td>\n",
       "    </tr>\n",
       "    <tr>\n",
       "      <th>4</th>\n",
       "      <td>Stream</td>\n",
       "      <td>20200526</td>\n",
       "      <td>39.0</td>\n",
       "      <td>NaN</td>\n",
       "      <td>54</td>\n",
       "      <td>NaN</td>\n",
       "      <td>NaN</td>\n",
       "      <td>NaN</td>\n",
       "      <td>4.0</td>\n",
       "      <td>NaN</td>\n",
       "      <td>...</td>\n",
       "      <td>NaN</td>\n",
       "      <td>8.0</td>\n",
       "      <td>6.0</td>\n",
       "      <td>12.0</td>\n",
       "      <td>NaN</td>\n",
       "      <td>NaN</td>\n",
       "      <td>5.0</td>\n",
       "      <td>15</td>\n",
       "      <td>137</td>\n",
       "      <td>76</td>\n",
       "    </tr>\n",
       "  </tbody>\n",
       "</table>\n",
       "<p>5 rows × 27 columns</p>\n",
       "</div>"
      ],
      "text/plain": [
       "  Habitat      Date  ANTPAL  CORTOW  EPTFUS  EUDMAC  EUMPER  EUMUND  LASBLO  \\\n",
       "0  Stream  20200522    15.0     NaN      18     NaN     NaN     NaN     NaN   \n",
       "1  Stream  20200523    13.0     NaN      37     NaN     1.0     NaN     4.0   \n",
       "2  Stream  20200524    25.0     NaN      39     NaN     NaN     NaN     6.0   \n",
       "3  Stream  20200525    38.0     NaN      56     NaN     NaN     NaN     3.0   \n",
       "4  Stream  20200526    39.0     NaN      54     NaN     NaN     NaN     4.0   \n",
       "\n",
       "   LASCIN  ...  MYOTHY  MYOVEL  MYOVOL  MYOYUM  NYCFEM  NYCMAC  PARHES  \\\n",
       "0     3.0  ...     1.0    22.0    14.0     9.0     1.0     NaN     3.0   \n",
       "1     1.0  ...     1.0     7.0     3.0     2.0     1.0     NaN     1.0   \n",
       "2     NaN  ...     NaN     8.0     8.0    11.0     NaN     NaN     5.0   \n",
       "3     4.0  ...     NaN    13.0     3.0     5.0     1.0     NaN     3.0   \n",
       "4     NaN  ...     NaN     8.0     6.0    12.0     NaN     NaN     5.0   \n",
       "\n",
       "   TADBRA  NOID  NOISE  \n",
       "0      61   210    127  \n",
       "1      11   138    107  \n",
       "2      37   222    128  \n",
       "3      26   175     93  \n",
       "4      15   137     76  \n",
       "\n",
       "[5 rows x 27 columns]"
      ]
     },
     "execution_count": 4,
     "metadata": {},
     "output_type": "execute_result"
    }
   ],
   "source": [
    "df.head()"
   ]
  },
  {
   "cell_type": "code",
   "execution_count": 5,
   "metadata": {},
   "outputs": [
    {
     "name": "stdout",
     "output_type": "stream",
     "text": [
      "<class 'pandas.core.frame.DataFrame'>\n",
      "RangeIndex: 42 entries, 0 to 41\n",
      "Data columns (total 27 columns):\n",
      " #   Column   Non-Null Count  Dtype  \n",
      "---  ------   --------------  -----  \n",
      " 0   Habitat  42 non-null     object \n",
      " 1   Date     42 non-null     int64  \n",
      " 2   ANTPAL   38 non-null     float64\n",
      " 3   CORTOW   13 non-null     float64\n",
      " 4   EPTFUS   42 non-null     int64  \n",
      " 5   EUDMAC   0 non-null      float64\n",
      " 6   EUMPER   1 non-null      float64\n",
      " 7   EUMUND   9 non-null      float64\n",
      " 8   LASBLO   39 non-null     float64\n",
      " 9   LASCIN   39 non-null     float64\n",
      " 10  LASNOC   40 non-null     float64\n",
      " 11  LASXAN   41 non-null     float64\n",
      " 12  MACCAL   0 non-null      float64\n",
      " 13  MYOCAL   28 non-null     float64\n",
      " 14  MYOCIL   41 non-null     float64\n",
      " 15  MYOEVO   23 non-null     float64\n",
      " 16  MYOOCC   17 non-null     float64\n",
      " 17  MYOTHY   5 non-null      float64\n",
      " 18  MYOVEL   39 non-null     float64\n",
      " 19  MYOVOL   32 non-null     float64\n",
      " 20  MYOYUM   30 non-null     float64\n",
      " 21  NYCFEM   38 non-null     float64\n",
      " 22  NYCMAC   10 non-null     float64\n",
      " 23  PARHES   40 non-null     float64\n",
      " 24  TADBRA   42 non-null     int64  \n",
      " 25  NOID     42 non-null     int64  \n",
      " 26  NOISE    42 non-null     int64  \n",
      "dtypes: float64(21), int64(5), object(1)\n",
      "memory usage: 9.0+ KB\n"
     ]
    }
   ],
   "source": [
    "df.info()"
   ]
  },
  {
   "cell_type": "code",
   "execution_count": 6,
   "metadata": {},
   "outputs": [],
   "source": [
    "#Remove column with less than 10 nights of detections as well as noise counts\n",
    "df = df.drop(columns = ['EUDMAC', 'MYOTHY', 'NOISE', 'MACCAL', 'EUMPER', 'EUMUND'])"
   ]
  },
  {
   "cell_type": "code",
   "execution_count": 7,
   "metadata": {},
   "outputs": [
    {
     "data": {
      "text/plain": [
       "Mesquite      7\n",
       "Lake          7\n",
       "Stream1       7\n",
       "Cottonwood    7\n",
       "Palm          7\n",
       "Stream        7\n",
       "Name: Habitat, dtype: int64"
      ]
     },
     "execution_count": 7,
     "metadata": {},
     "output_type": "execute_result"
    }
   ],
   "source": [
    "#Number of nights sampled for each habitat/recording site.\n",
    "df.Habitat.value_counts()"
   ]
  },
  {
   "cell_type": "code",
   "execution_count": 8,
   "metadata": {},
   "outputs": [],
   "source": [
    "#Fill all na's with 0\n",
    "df = df.fillna(0)"
   ]
  },
  {
   "cell_type": "code",
   "execution_count": 9,
   "metadata": {},
   "outputs": [],
   "source": [
    "#Create column with total number of bat detections\n",
    "df['Tot_Bat_det'] = df.ANTPAL + df.CORTOW + df.EPTFUS + df.LASBLO + df.LASCIN + df.LASNOC + df.LASXAN + df.MYOCAL + df.MYOCIL + df.MYOEVO + df.MYOOCC + df.MYOVEL + df.MYOVOL +df.MYOYUM + df.NYCFEM + df.NYCMAC + df.PARHES + df.TADBRA + df.NOID"
   ]
  },
  {
   "cell_type": "code",
   "execution_count": 10,
   "metadata": {},
   "outputs": [],
   "source": [
    "#Create column for total specie detected\n",
    "df['Total_Species'] = df[['ANTPAL', 'CORTOW', 'EPTFUS', 'LASBLO', 'LASCIN',\n",
    "       'LASNOC', 'LASXAN', 'MYOCAL', 'MYOCIL', 'MYOEVO', 'MYOOCC', 'MYOVEL',\n",
    "       'MYOVOL', 'MYOYUM', 'NYCFEM', 'NYCMAC', 'PARHES', 'TADBRA']].gt(0).sum(axis=1)"
   ]
  },
  {
   "cell_type": "code",
   "execution_count": 11,
   "metadata": {},
   "outputs": [
    {
     "data": {
      "text/html": [
       "<div>\n",
       "<style scoped>\n",
       "    .dataframe tbody tr th:only-of-type {\n",
       "        vertical-align: middle;\n",
       "    }\n",
       "\n",
       "    .dataframe tbody tr th {\n",
       "        vertical-align: top;\n",
       "    }\n",
       "\n",
       "    .dataframe thead th {\n",
       "        text-align: right;\n",
       "    }\n",
       "</style>\n",
       "<table border=\"1\" class=\"dataframe\">\n",
       "  <thead>\n",
       "    <tr style=\"text-align: right;\">\n",
       "      <th></th>\n",
       "      <th>Habitat</th>\n",
       "      <th>Date</th>\n",
       "      <th>ANTPAL</th>\n",
       "      <th>CORTOW</th>\n",
       "      <th>EPTFUS</th>\n",
       "      <th>LASBLO</th>\n",
       "      <th>LASCIN</th>\n",
       "      <th>LASNOC</th>\n",
       "      <th>LASXAN</th>\n",
       "      <th>MYOCAL</th>\n",
       "      <th>...</th>\n",
       "      <th>MYOVEL</th>\n",
       "      <th>MYOVOL</th>\n",
       "      <th>MYOYUM</th>\n",
       "      <th>NYCFEM</th>\n",
       "      <th>NYCMAC</th>\n",
       "      <th>PARHES</th>\n",
       "      <th>TADBRA</th>\n",
       "      <th>NOID</th>\n",
       "      <th>Tot_Bat_det</th>\n",
       "      <th>Total_Species</th>\n",
       "    </tr>\n",
       "  </thead>\n",
       "  <tbody>\n",
       "    <tr>\n",
       "      <th>0</th>\n",
       "      <td>Stream</td>\n",
       "      <td>20200522</td>\n",
       "      <td>15.0</td>\n",
       "      <td>0.0</td>\n",
       "      <td>18</td>\n",
       "      <td>0.0</td>\n",
       "      <td>3.0</td>\n",
       "      <td>4.0</td>\n",
       "      <td>10.0</td>\n",
       "      <td>6.0</td>\n",
       "      <td>...</td>\n",
       "      <td>22.0</td>\n",
       "      <td>14.0</td>\n",
       "      <td>9.0</td>\n",
       "      <td>1.0</td>\n",
       "      <td>0.0</td>\n",
       "      <td>3.0</td>\n",
       "      <td>61</td>\n",
       "      <td>210</td>\n",
       "      <td>553.0</td>\n",
       "      <td>15</td>\n",
       "    </tr>\n",
       "    <tr>\n",
       "      <th>1</th>\n",
       "      <td>Stream</td>\n",
       "      <td>20200523</td>\n",
       "      <td>13.0</td>\n",
       "      <td>0.0</td>\n",
       "      <td>37</td>\n",
       "      <td>4.0</td>\n",
       "      <td>1.0</td>\n",
       "      <td>2.0</td>\n",
       "      <td>13.0</td>\n",
       "      <td>2.0</td>\n",
       "      <td>...</td>\n",
       "      <td>7.0</td>\n",
       "      <td>3.0</td>\n",
       "      <td>2.0</td>\n",
       "      <td>1.0</td>\n",
       "      <td>0.0</td>\n",
       "      <td>1.0</td>\n",
       "      <td>11</td>\n",
       "      <td>138</td>\n",
       "      <td>289.0</td>\n",
       "      <td>16</td>\n",
       "    </tr>\n",
       "    <tr>\n",
       "      <th>2</th>\n",
       "      <td>Stream</td>\n",
       "      <td>20200524</td>\n",
       "      <td>25.0</td>\n",
       "      <td>0.0</td>\n",
       "      <td>39</td>\n",
       "      <td>6.0</td>\n",
       "      <td>0.0</td>\n",
       "      <td>2.0</td>\n",
       "      <td>41.0</td>\n",
       "      <td>4.0</td>\n",
       "      <td>...</td>\n",
       "      <td>8.0</td>\n",
       "      <td>8.0</td>\n",
       "      <td>11.0</td>\n",
       "      <td>0.0</td>\n",
       "      <td>0.0</td>\n",
       "      <td>5.0</td>\n",
       "      <td>37</td>\n",
       "      <td>222</td>\n",
       "      <td>519.0</td>\n",
       "      <td>14</td>\n",
       "    </tr>\n",
       "    <tr>\n",
       "      <th>3</th>\n",
       "      <td>Stream</td>\n",
       "      <td>20200525</td>\n",
       "      <td>38.0</td>\n",
       "      <td>0.0</td>\n",
       "      <td>56</td>\n",
       "      <td>3.0</td>\n",
       "      <td>4.0</td>\n",
       "      <td>0.0</td>\n",
       "      <td>12.0</td>\n",
       "      <td>0.0</td>\n",
       "      <td>...</td>\n",
       "      <td>13.0</td>\n",
       "      <td>3.0</td>\n",
       "      <td>5.0</td>\n",
       "      <td>1.0</td>\n",
       "      <td>0.0</td>\n",
       "      <td>3.0</td>\n",
       "      <td>26</td>\n",
       "      <td>175</td>\n",
       "      <td>373.0</td>\n",
       "      <td>13</td>\n",
       "    </tr>\n",
       "    <tr>\n",
       "      <th>4</th>\n",
       "      <td>Stream</td>\n",
       "      <td>20200526</td>\n",
       "      <td>39.0</td>\n",
       "      <td>0.0</td>\n",
       "      <td>54</td>\n",
       "      <td>4.0</td>\n",
       "      <td>0.0</td>\n",
       "      <td>1.0</td>\n",
       "      <td>18.0</td>\n",
       "      <td>0.0</td>\n",
       "      <td>...</td>\n",
       "      <td>8.0</td>\n",
       "      <td>6.0</td>\n",
       "      <td>12.0</td>\n",
       "      <td>0.0</td>\n",
       "      <td>0.0</td>\n",
       "      <td>5.0</td>\n",
       "      <td>15</td>\n",
       "      <td>137</td>\n",
       "      <td>357.0</td>\n",
       "      <td>13</td>\n",
       "    </tr>\n",
       "  </tbody>\n",
       "</table>\n",
       "<p>5 rows × 23 columns</p>\n",
       "</div>"
      ],
      "text/plain": [
       "  Habitat      Date  ANTPAL  CORTOW  EPTFUS  LASBLO  LASCIN  LASNOC  LASXAN  \\\n",
       "0  Stream  20200522    15.0     0.0      18     0.0     3.0     4.0    10.0   \n",
       "1  Stream  20200523    13.0     0.0      37     4.0     1.0     2.0    13.0   \n",
       "2  Stream  20200524    25.0     0.0      39     6.0     0.0     2.0    41.0   \n",
       "3  Stream  20200525    38.0     0.0      56     3.0     4.0     0.0    12.0   \n",
       "4  Stream  20200526    39.0     0.0      54     4.0     0.0     1.0    18.0   \n",
       "\n",
       "   MYOCAL  ...  MYOVEL  MYOVOL  MYOYUM  NYCFEM  NYCMAC  PARHES  TADBRA  NOID  \\\n",
       "0     6.0  ...    22.0    14.0     9.0     1.0     0.0     3.0      61   210   \n",
       "1     2.0  ...     7.0     3.0     2.0     1.0     0.0     1.0      11   138   \n",
       "2     4.0  ...     8.0     8.0    11.0     0.0     0.0     5.0      37   222   \n",
       "3     0.0  ...    13.0     3.0     5.0     1.0     0.0     3.0      26   175   \n",
       "4     0.0  ...     8.0     6.0    12.0     0.0     0.0     5.0      15   137   \n",
       "\n",
       "   Tot_Bat_det  Total_Species  \n",
       "0        553.0             15  \n",
       "1        289.0             16  \n",
       "2        519.0             14  \n",
       "3        373.0             13  \n",
       "4        357.0             13  \n",
       "\n",
       "[5 rows x 23 columns]"
      ]
     },
     "execution_count": 11,
     "metadata": {},
     "output_type": "execute_result"
    }
   ],
   "source": [
    "df.head()"
   ]
  },
  {
   "cell_type": "code",
   "execution_count": 12,
   "metadata": {},
   "outputs": [
    {
     "data": {
      "text/plain": [
       "Index(['Habitat', 'Date', 'ANTPAL', 'CORTOW', 'EPTFUS', 'LASBLO', 'LASCIN',\n",
       "       'LASNOC', 'LASXAN', 'MYOCAL', 'MYOCIL', 'MYOEVO', 'MYOOCC', 'MYOVEL',\n",
       "       'MYOVOL', 'MYOYUM', 'NYCFEM', 'NYCMAC', 'PARHES', 'TADBRA', 'NOID',\n",
       "       'Tot_Bat_det', 'Total_Species'],\n",
       "      dtype='object')"
      ]
     },
     "execution_count": 12,
     "metadata": {},
     "output_type": "execute_result"
    }
   ],
   "source": [
    "df.columns"
   ]
  },
  {
   "cell_type": "code",
   "execution_count": 13,
   "metadata": {},
   "outputs": [
    {
     "data": {
      "text/plain": [
       "Habitat          StreamStreamStreamStreamStreamStreamStreamCott...\n",
       "Date                                                     848424174\n",
       "ANTPAL                                                         494\n",
       "CORTOW                                                          20\n",
       "EPTFUS                                                        3725\n",
       "LASBLO                                                         195\n",
       "LASCIN                                                         589\n",
       "LASNOC                                                        1230\n",
       "LASXAN                                                        1170\n",
       "MYOCAL                                                          62\n",
       "MYOCIL                                                        1592\n",
       "MYOEVO                                                         158\n",
       "MYOOCC                                                          57\n",
       "MYOVEL                                                         950\n",
       "MYOVOL                                                         231\n",
       "MYOYUM                                                         254\n",
       "NYCFEM                                                         270\n",
       "NYCMAC                                                          21\n",
       "PARHES                                                        2089\n",
       "TADBRA                                                        3837\n",
       "NOID                                                          9354\n",
       "Tot_Bat_det                                                  26298\n",
       "Total_Species                                                  592\n",
       "dtype: object"
      ]
     },
     "execution_count": 13,
     "metadata": {},
     "output_type": "execute_result"
    }
   ],
   "source": [
    "df.sum()"
   ]
  },
  {
   "cell_type": "code",
   "execution_count": 14,
   "metadata": {},
   "outputs": [],
   "source": [
    "#Create dataframe of means by habitat\n",
    "mean_df = df.groupby(df['Habitat']).mean().round(2)"
   ]
  },
  {
   "cell_type": "code",
   "execution_count": 15,
   "metadata": {},
   "outputs": [],
   "source": [
    "#Create dataframe of standard deviations by habitat\n",
    "sdiv_df = df.groupby(df['Habitat']).std()"
   ]
  },
  {
   "cell_type": "markdown",
   "metadata": {},
   "source": [
    "# Graphing Individual Species"
   ]
  },
  {
   "cell_type": "code",
   "execution_count": 16,
   "metadata": {},
   "outputs": [
    {
     "data": {
      "image/png": "[encoded data removed]",
      "text/plain": [
       "<Figure size 432x288 with 1 Axes>"
      ]
     },
     "metadata": {
      "needs_background": "light"
     },
     "output_type": "display_data"
    }
   ],
   "source": [
    "plt.bar(mean_df.index, mean_df.TADBRA, yerr=sdiv_df.TADBRA)\n",
    "plt.text(5.5, 340, 'Mexican Free-Tailed Bat\\nTADBRA            ', fontsize = 15, horizontalalignment='right', verticalalignment='top')\n",
    "plt.xlabel('Habitat')\n",
    "plt.ylabel('Average nightly detections')\n",
    "plt.show()"
   ]
  },
  {
   "cell_type": "code",
   "execution_count": 17,
   "metadata": {},
   "outputs": [
    {
     "data": {
      "image/png": "[encoded data removed]",
      "text/plain": [
       "<Figure size 432x288 with 1 Axes>"
      ]
     },
     "metadata": {
      "needs_background": "light"
     },
     "output_type": "display_data"
    }
   ],
   "source": [
    "plt.bar(mean_df.index, mean_df.Tot_Bat_det, yerr=sdiv_df.Tot_Bat_det)\n",
    "plt.text(5.5, 1750, 'Average Total Number\\nof Bat Detections', fontsize = 15, horizontalalignment='right', verticalalignment='top')\n",
    "plt.xlabel('Habitat')\n",
    "plt.ylabel('Average nightly detections')\n",
    "plt.show()"
   ]
  },
  {
   "cell_type": "code",
   "execution_count": 18,
   "metadata": {},
   "outputs": [
    {
     "data": {
      "image/png": "[encoded data removed]",
      "text/plain": [
       "<Figure size 432x288 with 1 Axes>"
      ]
     },
     "metadata": {
      "needs_background": "light"
     },
     "output_type": "display_data"
    }
   ],
   "source": [
    "plt.bar(mean_df.index, mean_df['Total_Species'], yerr=sdiv_df['Total_Species'])\n",
    "plt.text(5, 19.5, 'Average Species Detected Nightly', fontsize = 15, horizontalalignment='right', verticalalignment='top')\n",
    "plt.xlabel('Habitat')\n",
    "plt.ylabel('Average nightly detections')\n",
    "plt.ylim(0, 21)\n",
    "plt.show()"
   ]
  },
  {
   "cell_type": "code",
   "execution_count": 19,
   "metadata": {},
   "outputs": [
    {
     "data": {
      "image/png": "[encoded data removed]",
      "text/plain": [
       "<Figure size 432x288 with 1 Axes>"
      ]
     },
     "metadata": {
      "needs_background": "light"
     },
     "output_type": "display_data"
    }
   ],
   "source": [
    "plt.bar(mean_df.index, mean_df.EPTFUS, yerr=sdiv_df.EPTFUS)\n",
    "plt.text(5.5, 375, 'Big Brown Bat  \\nEPTFUS       ', fontsize = 15, horizontalalignment='right', verticalalignment='top')\n",
    "plt.xlabel('Habitat')\n",
    "plt.ylabel('Average nightly detections')\n",
    "plt.ylim(0, 400)\n",
    "plt.show()"
   ]
  },
  {
   "cell_type": "code",
   "execution_count": 20,
   "metadata": {},
   "outputs": [
    {
     "data": {
      "image/png": "[encoded data removed]",
      "text/plain": [
       "<Figure size 432x288 with 1 Axes>"
      ]
     },
     "metadata": {
      "needs_background": "light"
     },
     "output_type": "display_data"
    }
   ],
   "source": [
    "plt.bar(mean_df.index, mean_df.LASNOC, yerr=sdiv_df.LASNOC)\n",
    "plt.text(5.5, 125, 'Silver-Haired Bat  \\nLASNOC        ', fontsize = 15, horizontalalignment='right', verticalalignment='top')\n",
    "plt.xlabel('Habitat')\n",
    "plt.ylabel('Average nightly detections')\n",
    "plt.show()"
   ]
  },
  {
   "cell_type": "code",
   "execution_count": 21,
   "metadata": {},
   "outputs": [
    {
     "data": {
      "image/png": "[encoded data removed]",
      "text/plain": [
       "<Figure size 432x288 with 1 Axes>"
      ]
     },
     "metadata": {
      "needs_background": "light"
     },
     "output_type": "display_data"
    }
   ],
   "source": [
    "plt.bar(mean_df.index, mean_df.LASXAN, yerr=sdiv_df.LASXAN)\n",
    "plt.text(5.5, 115, 'Western  \\nYellow Bat\\nLASXAN  ', fontsize = 15, horizontalalignment='right', verticalalignment='top')\n",
    "plt.xlabel('Habitat')\n",
    "plt.ylabel('Average nightly detections')\n",
    "plt.show()"
   ]
  },
  {
   "cell_type": "code",
   "execution_count": 22,
   "metadata": {},
   "outputs": [
    {
     "data": {
      "image/png": "[encoded data removed]",
      "text/plain": [
       "<Figure size 432x288 with 1 Axes>"
      ]
     },
     "metadata": {
      "needs_background": "light"
     },
     "output_type": "display_data"
    }
   ],
   "source": [
    "plt.bar(mean_df.index, mean_df.MYOCIL, yerr=sdiv_df.MYOCIL)\n",
    "plt.text(-0.5, 115, 'Western Small-Footed Myotis \\nMYOCIL  ', fontsize = 15, horizontalalignment='left', verticalalignment='top')\n",
    "plt.xlabel('Habitat')\n",
    "plt.ylabel('Average nightly detections')\n",
    "plt.ylim(0, 125)\n",
    "plt.show()"
   ]
  },
  {
   "cell_type": "code",
   "execution_count": 23,
   "metadata": {},
   "outputs": [
    {
     "data": {
      "image/png": "[encoded data removed]",
      "text/plain": [
       "<Figure size 432x288 with 1 Axes>"
      ]
     },
     "metadata": {
      "needs_background": "light"
     },
     "output_type": "display_data"
    }
   ],
   "source": [
    "plt.bar(mean_df.index, mean_df.MYOVEL, yerr=sdiv_df.MYOVEL)\n",
    "plt.text(5, 80, 'Cave Myotis\\nMYOVEL   ', fontsize = 15, horizontalalignment='right', verticalalignment='top')\n",
    "plt.xlabel('Habitat')\n",
    "plt.ylabel('Average nightly detections')\n",
    "plt.ylim(0, 90)\n",
    "plt.show()"
   ]
  },
  {
   "cell_type": "code",
   "execution_count": 24,
   "metadata": {},
   "outputs": [
    {
     "data": {
      "image/png": "[encoded data removed]",
      "text/plain": [
       "<Figure size 432x288 with 1 Axes>"
      ]
     },
     "metadata": {
      "needs_background": "light"
     },
     "output_type": "display_data"
    }
   ],
   "source": [
    "plt.bar(mean_df.index, mean_df.PARHES, yerr=sdiv_df.PARHES)\n",
    "plt.text(5, 250, 'Canyon Bat\\nPARHES   ', fontsize = 15, horizontalalignment='right', verticalalignment='top')\n",
    "plt.xlabel('Habitat')\n",
    "plt.ylabel('Average nightly detections')\n",
    "plt.show()"
   ]
  },
  {
   "cell_type": "markdown",
   "metadata": {},
   "source": [
    "# Graphing On Single Chart"
   ]
  },
  {
   "cell_type": "code",
   "execution_count": 25,
   "metadata": {},
   "outputs": [
    {
     "data": {
      "image/png": "[encoded data removed]",
      "text/plain": [
       "<Figure size 1008x1008 with 8 Axes>"
      ]
     },
     "metadata": {
      "needs_background": "light"
     },
     "output_type": "display_data"
    }
   ],
   "source": [
    "fig, ((ax1, ax2), (ax3, ax4), (ax5, ax6), (ax7, ax8)) = plt.subplots(nrows = 4, ncols = 2, figsize=(14,14))\n",
    "fig.suptitle('Average Nightly Bat Detections By Habitat', fontsize=25, x = 0.54)\n",
    "fig.tight_layout()\n",
    "fig.subplots_adjust(top=0.95, bottom = 0.1, left = 0.09)\n",
    "\n",
    "ax1.bar(mean_df.index, mean_df.Tot_Bat_det, yerr=sdiv_df.Tot_Bat_det)\n",
    "ax1.text(5.5, 1750, 'Total Number of\\nBat Detections ', fontsize = 18, horizontalalignment='right', verticalalignment='top')\n",
    "\n",
    "ax2.bar(mean_df.index, mean_df.TADBRA, yerr=sdiv_df.TADBRA)\n",
    "ax2.text(5.5, 340, 'Mexican Free-Tailed Bat\\nTADBRA            ', fontsize = 18, horizontalalignment='right', verticalalignment='top')\n",
    "\n",
    "ax3.bar(mean_df.index, mean_df.PARHES, yerr=sdiv_df.PARHES)\n",
    "ax3.text(5, 250, 'Canyon Bat\\nPARHES   ', fontsize = 18, horizontalalignment='right', verticalalignment='top')\n",
    "\n",
    "ax4.bar(mean_df.index, mean_df.MYOVEL, yerr=sdiv_df.MYOVEL)\n",
    "ax4.text(5, 80, 'Cave Myotis\\nMYOVEL   ', fontsize = 18, horizontalalignment='right', verticalalignment='top')\n",
    "ax4.set_ylim(0, 90)\n",
    "\n",
    "ax5.bar(mean_df.index, mean_df.MYOCIL, yerr=sdiv_df.MYOCIL)\n",
    "ax5.text(-0.5, 115, '         Western\\nSmall-Footed Myotis\\n          MYOCIL  ', fontsize = 18, horizontalalignment='left', verticalalignment='top')\n",
    "ax5.set_ylim(0, 125)\n",
    "\n",
    "ax6.bar(mean_df.index, mean_df.LASXAN, yerr=sdiv_df.LASXAN)\n",
    "ax6.text(5.5, 115, 'Western  \\nYellow Bat\\nLASXAN  ', fontsize = 18, horizontalalignment='right', verticalalignment='top')\n",
    "\n",
    "ax7.bar(mean_df.index, mean_df.LASNOC, yerr=sdiv_df.LASNOC)\n",
    "ax7.text(5.5, 125, 'Silver-Haired Bat  \\nLASNOC        ', fontsize = 18, horizontalalignment='right', verticalalignment='top')\n",
    "\n",
    "ax8.bar(mean_df.index, mean_df.EPTFUS, yerr=sdiv_df.EPTFUS)\n",
    "ax8.text(5.5, 375, 'Big Brown Bat  \\nEPTFUS       ', fontsize = 18, horizontalalignment='right', verticalalignment='top')\n",
    "ax8.set_ylim(0, 400)\n",
    "\n",
    "fig.text(0.54, 0.06, 'Habitat', ha='center', fontsize=18)\n",
    "fig.text(0.04, 0.5, 'Average Detections', va='center', rotation='vertical', fontsize = 18)\n",
    "plt.show()"
   ]
  },
  {
   "cell_type": "markdown",
   "metadata": {},
   "source": [
    "# Hypothesis Testing"
   ]
  },
  {
   "cell_type": "code",
   "execution_count": 26,
   "metadata": {},
   "outputs": [],
   "source": [
    "#Load package for testing distribution of data\n",
    "from scipy.stats import shapiro"
   ]
  },
  {
   "cell_type": "code",
   "execution_count": 27,
   "metadata": {},
   "outputs": [],
   "source": [
    "#Testing normality of data for each feature\n",
    "hab_SWtest = []\n",
    "species = []\n",
    "habitat = []\n",
    "for i in df['Habitat'].unique():\n",
    "    for s in ['EPTFUS', 'LASNOC', 'LASXAN', 'MYOCIL', 'MYOVEL', 'PARHES', 'TADBRA', 'Tot_Bat_det', 'Total_Species']:\n",
    "        habitat.append(i)\n",
    "        species.append(s)\n",
    "        hab_SWtest.append(shapiro(df[s]))\n",
    "hab_SWtest_df = pd.DataFrame({'Species' : species, 'Habitat' : habitat, 'SW test' : hab_SWtest})"
   ]
  },
  {
   "cell_type": "code",
   "execution_count": 28,
   "metadata": {},
   "outputs": [
    {
     "data": {
      "text/plain": [
       "54"
      ]
     },
     "execution_count": 28,
     "metadata": {},
     "output_type": "execute_result"
    }
   ],
   "source": [
    "#Extracting p-value for each s-w test for normality\n",
    "pval = pd.DataFrame([x[1] for x in hab_SWtest_df['SW test']])\n",
    "len(pval)"
   ]
  },
  {
   "cell_type": "code",
   "execution_count": 29,
   "metadata": {},
   "outputs": [
    {
     "name": "stdout",
     "output_type": "stream",
     "text": [
      "Number of non-normal distributions: 0    54\n",
      "dtype: int64\n",
      "Number of normal distributions: 0    0\n",
      "dtype: int64\n"
     ]
    }
   ],
   "source": [
    "#Determine is any of the species have a normal data distribution\n",
    "print('Number of non-normal distributions:', (pval < 0.05).sum())\n",
    "print('Number of normal distributions:', (pval > 0.05).sum())"
   ]
  },
  {
   "cell_type": "markdown",
   "metadata": {},
   "source": [
    "None of the data is normally distributed so non-parametric hypothesis testing should be carried out."
   ]
  },
  {
   "cell_type": "markdown",
   "metadata": {},
   "source": [
    "## KW Test"
   ]
  },
  {
   "cell_type": "code",
   "execution_count": 30,
   "metadata": {},
   "outputs": [],
   "source": [
    "#Loading packages to carry out non-parametric hypothesis testing and posthoc tests\n",
    "from scipy import stats\n",
    "import scikit_posthocs as sp"
   ]
  },
  {
   "cell_type": "code",
   "execution_count": 31,
   "metadata": {},
   "outputs": [
    {
     "name": "stdout",
     "output_type": "stream",
     "text": [
      "         Species      Score   p-value\n",
      "0         EPTFUS  30.105762  0.000014\n",
      "1         LASNOC  35.303649  0.000001\n",
      "2         LASXAN  34.534156  0.000002\n",
      "3         MYOCIL  28.611371  0.000028\n",
      "4         MYOVEL  27.119784  0.000054\n",
      "5         PARHES  34.471538  0.000002\n",
      "6         TADBRA  33.583990  0.000003\n",
      "7    Tot_Bat_det  33.725202  0.000003\n",
      "8  Total_Species  24.569956  0.000169\n"
     ]
    }
   ],
   "source": [
    "#Carrying out KW test to compare each species across habitats/sample sites.\n",
    "#This is done for the seven most common species as well as total species and total detections.\n",
    "kwtest = []\n",
    "kwspecies = []\n",
    "\n",
    "for i in ['EPTFUS', 'LASNOC', 'LASXAN', 'MYOCIL', 'MYOVEL', 'PARHES', 'TADBRA', 'Tot_Bat_det', 'Total_Species']:\n",
    "    kwtest.append(stats.kruskal(df[df['Habitat'] == 'Stream'][i], \n",
    "                                df[df['Habitat'] == 'Cottonwood'][i], \n",
    "                                df[df['Habitat'] == 'Stream1'][i], \n",
    "                                df[df['Habitat'] == 'Mesquite'][i], \n",
    "                                df[df['Habitat'] == 'Lake'][i], \n",
    "                                df[df['Habitat'] == 'Palm'][i]))\n",
    "    kwspecies.append(i)\n",
    "print(pd.DataFrame({'Species' : kwspecies, 'Score' : [x[0] for x in kwtest], 'p-value' : [x[1] for x in kwtest]}))"
   ]
  },
  {
   "cell_type": "markdown",
   "metadata": {},
   "source": [
    "It was determined that there were statistically significant differences for individual species, total detections, and total species overall across all habitats."
   ]
  },
  {
   "cell_type": "markdown",
   "metadata": {},
   "source": [
    "### Pair-wise comparison tests"
   ]
  },
  {
   "cell_type": "code",
   "execution_count": 32,
   "metadata": {},
   "outputs": [],
   "source": [
    "#Pairwise comparison between habitats for 7 most common species, total detections and total species.\n",
    "spp = []\n",
    "post_hoc = []\n",
    "\n",
    "for i in ['EPTFUS', 'LASNOC', 'LASXAN', 'MYOCIL', 'MYOVEL', 'PARHES', 'TADBRA', 'Tot_Bat_det', 'Total_Species']:\n",
    "    post_hoc.append(sp.posthoc_conover(df, val_col=i, group_col='Habitat', p_adjust = 'holm'))\n",
    "    spp.append(i)\n",
    "post = pd.DataFrame({'Species' : spp, 'Post Hoc Test' : post_hoc})"
   ]
  },
  {
   "cell_type": "code",
   "execution_count": 33,
   "metadata": {},
   "outputs": [
    {
     "name": "stdout",
     "output_type": "stream",
     "text": [
      "EPTFUS\n"
     ]
    },
    {
     "data": {
      "text/html": [
       "<div>\n",
       "<style scoped>\n",
       "    .dataframe tbody tr th:only-of-type {\n",
       "        vertical-align: middle;\n",
       "    }\n",
       "\n",
       "    .dataframe tbody tr th {\n",
       "        vertical-align: top;\n",
       "    }\n",
       "\n",
       "    .dataframe thead th {\n",
       "        text-align: right;\n",
       "    }\n",
       "</style>\n",
       "<table border=\"1\" class=\"dataframe\">\n",
       "  <thead>\n",
       "    <tr style=\"text-align: right;\">\n",
       "      <th></th>\n",
       "      <th>Cottonwood</th>\n",
       "      <th>Lake</th>\n",
       "      <th>Mesquite</th>\n",
       "      <th>Palm</th>\n",
       "      <th>Stream</th>\n",
       "      <th>Stream1</th>\n",
       "    </tr>\n",
       "  </thead>\n",
       "  <tbody>\n",
       "    <tr>\n",
       "      <th>Cottonwood</th>\n",
       "      <td>1.000000</td>\n",
       "      <td>7.454399e-05</td>\n",
       "      <td>1.195914e-03</td>\n",
       "      <td>0.368658</td>\n",
       "      <td>0.757407</td>\n",
       "      <td>0.757407</td>\n",
       "    </tr>\n",
       "    <tr>\n",
       "      <th>Lake</th>\n",
       "      <td>0.000075</td>\n",
       "      <td>1.000000e+00</td>\n",
       "      <td>3.005554e-10</td>\n",
       "      <td>0.011697</td>\n",
       "      <td>0.000456</td>\n",
       "      <td>0.000006</td>\n",
       "    </tr>\n",
       "    <tr>\n",
       "      <th>Mesquite</th>\n",
       "      <td>0.001196</td>\n",
       "      <td>3.005554e-10</td>\n",
       "      <td>1.000000e+00</td>\n",
       "      <td>0.000006</td>\n",
       "      <td>0.000204</td>\n",
       "      <td>0.012063</td>\n",
       "    </tr>\n",
       "    <tr>\n",
       "      <th>Palm</th>\n",
       "      <td>0.368658</td>\n",
       "      <td>1.169735e-02</td>\n",
       "      <td>6.246585e-06</td>\n",
       "      <td>1.000000</td>\n",
       "      <td>0.727419</td>\n",
       "      <td>0.057972</td>\n",
       "    </tr>\n",
       "    <tr>\n",
       "      <th>Stream</th>\n",
       "      <td>0.757407</td>\n",
       "      <td>4.563027e-04</td>\n",
       "      <td>2.035934e-04</td>\n",
       "      <td>0.727419</td>\n",
       "      <td>1.000000</td>\n",
       "      <td>0.524500</td>\n",
       "    </tr>\n",
       "    <tr>\n",
       "      <th>Stream1</th>\n",
       "      <td>0.757407</td>\n",
       "      <td>5.605044e-06</td>\n",
       "      <td>1.206317e-02</td>\n",
       "      <td>0.057972</td>\n",
       "      <td>0.524500</td>\n",
       "      <td>1.000000</td>\n",
       "    </tr>\n",
       "  </tbody>\n",
       "</table>\n",
       "</div>"
      ],
      "text/plain": [
       "            Cottonwood          Lake      Mesquite      Palm    Stream  \\\n",
       "Cottonwood    1.000000  7.454399e-05  1.195914e-03  0.368658  0.757407   \n",
       "Lake          0.000075  1.000000e+00  3.005554e-10  0.011697  0.000456   \n",
       "Mesquite      0.001196  3.005554e-10  1.000000e+00  0.000006  0.000204   \n",
       "Palm          0.368658  1.169735e-02  6.246585e-06  1.000000  0.727419   \n",
       "Stream        0.757407  4.563027e-04  2.035934e-04  0.727419  1.000000   \n",
       "Stream1       0.757407  5.605044e-06  1.206317e-02  0.057972  0.524500   \n",
       "\n",
       "             Stream1  \n",
       "Cottonwood  0.757407  \n",
       "Lake        0.000006  \n",
       "Mesquite    0.012063  \n",
       "Palm        0.057972  \n",
       "Stream      0.524500  \n",
       "Stream1     1.000000  "
      ]
     },
     "execution_count": 33,
     "metadata": {},
     "output_type": "execute_result"
    }
   ],
   "source": [
    "print('EPTFUS')\n",
    "post_hoc[0]"
   ]
  },
  {
   "cell_type": "code",
   "execution_count": 34,
   "metadata": {},
   "outputs": [
    {
     "name": "stdout",
     "output_type": "stream",
     "text": [
      "LASNOC\n"
     ]
    },
    {
     "data": {
      "text/html": [
       "<div>\n",
       "<style scoped>\n",
       "    .dataframe tbody tr th:only-of-type {\n",
       "        vertical-align: middle;\n",
       "    }\n",
       "\n",
       "    .dataframe tbody tr th {\n",
       "        vertical-align: top;\n",
       "    }\n",
       "\n",
       "    .dataframe thead th {\n",
       "        text-align: right;\n",
       "    }\n",
       "</style>\n",
       "<table border=\"1\" class=\"dataframe\">\n",
       "  <thead>\n",
       "    <tr style=\"text-align: right;\">\n",
       "      <th></th>\n",
       "      <th>Cottonwood</th>\n",
       "      <th>Lake</th>\n",
       "      <th>Mesquite</th>\n",
       "      <th>Palm</th>\n",
       "      <th>Stream</th>\n",
       "      <th>Stream1</th>\n",
       "    </tr>\n",
       "  </thead>\n",
       "  <tbody>\n",
       "    <tr>\n",
       "      <th>Cottonwood</th>\n",
       "      <td>1.000000e+00</td>\n",
       "      <td>1.846179e-03</td>\n",
       "      <td>8.568518e-05</td>\n",
       "      <td>1.000000e+00</td>\n",
       "      <td>5.515113e-08</td>\n",
       "      <td>1.111812e-07</td>\n",
       "    </tr>\n",
       "    <tr>\n",
       "      <th>Lake</th>\n",
       "      <td>1.846179e-03</td>\n",
       "      <td>1.000000e+00</td>\n",
       "      <td>1.053970e-09</td>\n",
       "      <td>2.483761e-03</td>\n",
       "      <td>1.453711e-12</td>\n",
       "      <td>2.877538e-12</td>\n",
       "    </tr>\n",
       "    <tr>\n",
       "      <th>Mesquite</th>\n",
       "      <td>8.568518e-05</td>\n",
       "      <td>1.053970e-09</td>\n",
       "      <td>1.000000e+00</td>\n",
       "      <td>5.901457e-05</td>\n",
       "      <td>5.909029e-02</td>\n",
       "      <td>9.028923e-02</td>\n",
       "    </tr>\n",
       "    <tr>\n",
       "      <th>Palm</th>\n",
       "      <td>1.000000e+00</td>\n",
       "      <td>2.483761e-03</td>\n",
       "      <td>5.901457e-05</td>\n",
       "      <td>1.000000e+00</td>\n",
       "      <td>3.693503e-08</td>\n",
       "      <td>7.545462e-08</td>\n",
       "    </tr>\n",
       "    <tr>\n",
       "      <th>Stream</th>\n",
       "      <td>5.515113e-08</td>\n",
       "      <td>1.453711e-12</td>\n",
       "      <td>5.909029e-02</td>\n",
       "      <td>3.693503e-08</td>\n",
       "      <td>1.000000e+00</td>\n",
       "      <td>1.000000e+00</td>\n",
       "    </tr>\n",
       "    <tr>\n",
       "      <th>Stream1</th>\n",
       "      <td>1.111812e-07</td>\n",
       "      <td>2.877538e-12</td>\n",
       "      <td>9.028923e-02</td>\n",
       "      <td>7.545462e-08</td>\n",
       "      <td>1.000000e+00</td>\n",
       "      <td>1.000000e+00</td>\n",
       "    </tr>\n",
       "  </tbody>\n",
       "</table>\n",
       "</div>"
      ],
      "text/plain": [
       "              Cottonwood          Lake      Mesquite          Palm  \\\n",
       "Cottonwood  1.000000e+00  1.846179e-03  8.568518e-05  1.000000e+00   \n",
       "Lake        1.846179e-03  1.000000e+00  1.053970e-09  2.483761e-03   \n",
       "Mesquite    8.568518e-05  1.053970e-09  1.000000e+00  5.901457e-05   \n",
       "Palm        1.000000e+00  2.483761e-03  5.901457e-05  1.000000e+00   \n",
       "Stream      5.515113e-08  1.453711e-12  5.909029e-02  3.693503e-08   \n",
       "Stream1     1.111812e-07  2.877538e-12  9.028923e-02  7.545462e-08   \n",
       "\n",
       "                  Stream       Stream1  \n",
       "Cottonwood  5.515113e-08  1.111812e-07  \n",
       "Lake        1.453711e-12  2.877538e-12  \n",
       "Mesquite    5.909029e-02  9.028923e-02  \n",
       "Palm        3.693503e-08  7.545462e-08  \n",
       "Stream      1.000000e+00  1.000000e+00  \n",
       "Stream1     1.000000e+00  1.000000e+00  "
      ]
     },
     "execution_count": 34,
     "metadata": {},
     "output_type": "execute_result"
    }
   ],
   "source": [
    "print('LASNOC')\n",
    "post_hoc[1]"
   ]
  },
  {
   "cell_type": "code",
   "execution_count": 35,
   "metadata": {},
   "outputs": [
    {
     "name": "stdout",
     "output_type": "stream",
     "text": [
      "LASXAN\n"
     ]
    },
    {
     "data": {
      "text/html": [
       "<div>\n",
       "<style scoped>\n",
       "    .dataframe tbody tr th:only-of-type {\n",
       "        vertical-align: middle;\n",
       "    }\n",
       "\n",
       "    .dataframe tbody tr th {\n",
       "        vertical-align: top;\n",
       "    }\n",
       "\n",
       "    .dataframe thead th {\n",
       "        text-align: right;\n",
       "    }\n",
       "</style>\n",
       "<table border=\"1\" class=\"dataframe\">\n",
       "  <thead>\n",
       "    <tr style=\"text-align: right;\">\n",
       "      <th></th>\n",
       "      <th>Cottonwood</th>\n",
       "      <th>Lake</th>\n",
       "      <th>Mesquite</th>\n",
       "      <th>Palm</th>\n",
       "      <th>Stream</th>\n",
       "      <th>Stream1</th>\n",
       "    </tr>\n",
       "  </thead>\n",
       "  <tbody>\n",
       "    <tr>\n",
       "      <th>Cottonwood</th>\n",
       "      <td>1.000000e+00</td>\n",
       "      <td>6.490870e-09</td>\n",
       "      <td>7.325749e-01</td>\n",
       "      <td>2.840255e-11</td>\n",
       "      <td>0.000013</td>\n",
       "      <td>7.325749e-01</td>\n",
       "    </tr>\n",
       "    <tr>\n",
       "      <th>Lake</th>\n",
       "      <td>6.490870e-09</td>\n",
       "      <td>1.000000e+00</td>\n",
       "      <td>8.976133e-08</td>\n",
       "      <td>1.871217e-01</td>\n",
       "      <td>0.063144</td>\n",
       "      <td>1.761880e-07</td>\n",
       "    </tr>\n",
       "    <tr>\n",
       "      <th>Mesquite</th>\n",
       "      <td>7.325749e-01</td>\n",
       "      <td>8.976133e-08</td>\n",
       "      <td>1.000000e+00</td>\n",
       "      <td>3.156540e-10</td>\n",
       "      <td>0.000197</td>\n",
       "      <td>7.983507e-01</td>\n",
       "    </tr>\n",
       "    <tr>\n",
       "      <th>Palm</th>\n",
       "      <td>2.840255e-11</td>\n",
       "      <td>1.871217e-01</td>\n",
       "      <td>3.156540e-10</td>\n",
       "      <td>1.000000e+00</td>\n",
       "      <td>0.000275</td>\n",
       "      <td>5.949367e-10</td>\n",
       "    </tr>\n",
       "    <tr>\n",
       "      <th>Stream</th>\n",
       "      <td>1.287860e-05</td>\n",
       "      <td>6.314403e-02</td>\n",
       "      <td>1.965351e-04</td>\n",
       "      <td>2.748085e-04</td>\n",
       "      <td>1.000000</td>\n",
       "      <td>3.215030e-04</td>\n",
       "    </tr>\n",
       "    <tr>\n",
       "      <th>Stream1</th>\n",
       "      <td>7.325749e-01</td>\n",
       "      <td>1.761880e-07</td>\n",
       "      <td>7.983507e-01</td>\n",
       "      <td>5.949367e-10</td>\n",
       "      <td>0.000322</td>\n",
       "      <td>1.000000e+00</td>\n",
       "    </tr>\n",
       "  </tbody>\n",
       "</table>\n",
       "</div>"
      ],
      "text/plain": [
       "              Cottonwood          Lake      Mesquite          Palm    Stream  \\\n",
       "Cottonwood  1.000000e+00  6.490870e-09  7.325749e-01  2.840255e-11  0.000013   \n",
       "Lake        6.490870e-09  1.000000e+00  8.976133e-08  1.871217e-01  0.063144   \n",
       "Mesquite    7.325749e-01  8.976133e-08  1.000000e+00  3.156540e-10  0.000197   \n",
       "Palm        2.840255e-11  1.871217e-01  3.156540e-10  1.000000e+00  0.000275   \n",
       "Stream      1.287860e-05  6.314403e-02  1.965351e-04  2.748085e-04  1.000000   \n",
       "Stream1     7.325749e-01  1.761880e-07  7.983507e-01  5.949367e-10  0.000322   \n",
       "\n",
       "                 Stream1  \n",
       "Cottonwood  7.325749e-01  \n",
       "Lake        1.761880e-07  \n",
       "Mesquite    7.983507e-01  \n",
       "Palm        5.949367e-10  \n",
       "Stream      3.215030e-04  \n",
       "Stream1     1.000000e+00  "
      ]
     },
     "execution_count": 35,
     "metadata": {},
     "output_type": "execute_result"
    }
   ],
   "source": [
    "print('LASXAN')\n",
    "post_hoc[2]"
   ]
  },
  {
   "cell_type": "code",
   "execution_count": 36,
   "metadata": {},
   "outputs": [
    {
     "name": "stdout",
     "output_type": "stream",
     "text": [
      "MYOCIL\n"
     ]
    },
    {
     "data": {
      "text/html": [
       "<div>\n",
       "<style scoped>\n",
       "    .dataframe tbody tr th:only-of-type {\n",
       "        vertical-align: middle;\n",
       "    }\n",
       "\n",
       "    .dataframe tbody tr th {\n",
       "        vertical-align: top;\n",
       "    }\n",
       "\n",
       "    .dataframe thead th {\n",
       "        text-align: right;\n",
       "    }\n",
       "</style>\n",
       "<table border=\"1\" class=\"dataframe\">\n",
       "  <thead>\n",
       "    <tr style=\"text-align: right;\">\n",
       "      <th></th>\n",
       "      <th>Cottonwood</th>\n",
       "      <th>Lake</th>\n",
       "      <th>Mesquite</th>\n",
       "      <th>Palm</th>\n",
       "      <th>Stream</th>\n",
       "      <th>Stream1</th>\n",
       "    </tr>\n",
       "  </thead>\n",
       "  <tbody>\n",
       "    <tr>\n",
       "      <th>Cottonwood</th>\n",
       "      <td>1.000000</td>\n",
       "      <td>0.003976</td>\n",
       "      <td>0.002099</td>\n",
       "      <td>0.005049</td>\n",
       "      <td>0.615019</td>\n",
       "      <td>0.246783</td>\n",
       "    </tr>\n",
       "    <tr>\n",
       "      <th>Lake</th>\n",
       "      <td>0.003976</td>\n",
       "      <td>1.000000</td>\n",
       "      <td>1.000000</td>\n",
       "      <td>1.000000</td>\n",
       "      <td>0.000047</td>\n",
       "      <td>0.000011</td>\n",
       "    </tr>\n",
       "    <tr>\n",
       "      <th>Mesquite</th>\n",
       "      <td>0.002099</td>\n",
       "      <td>1.000000</td>\n",
       "      <td>1.000000</td>\n",
       "      <td>1.000000</td>\n",
       "      <td>0.000023</td>\n",
       "      <td>0.000006</td>\n",
       "    </tr>\n",
       "    <tr>\n",
       "      <th>Palm</th>\n",
       "      <td>0.005049</td>\n",
       "      <td>1.000000</td>\n",
       "      <td>1.000000</td>\n",
       "      <td>1.000000</td>\n",
       "      <td>0.000064</td>\n",
       "      <td>0.000016</td>\n",
       "    </tr>\n",
       "    <tr>\n",
       "      <th>Stream</th>\n",
       "      <td>0.615019</td>\n",
       "      <td>0.000047</td>\n",
       "      <td>0.000023</td>\n",
       "      <td>0.000064</td>\n",
       "      <td>1.000000</td>\n",
       "      <td>1.000000</td>\n",
       "    </tr>\n",
       "    <tr>\n",
       "      <th>Stream1</th>\n",
       "      <td>0.246783</td>\n",
       "      <td>0.000011</td>\n",
       "      <td>0.000006</td>\n",
       "      <td>0.000016</td>\n",
       "      <td>1.000000</td>\n",
       "      <td>1.000000</td>\n",
       "    </tr>\n",
       "  </tbody>\n",
       "</table>\n",
       "</div>"
      ],
      "text/plain": [
       "            Cottonwood      Lake  Mesquite      Palm    Stream   Stream1\n",
       "Cottonwood    1.000000  0.003976  0.002099  0.005049  0.615019  0.246783\n",
       "Lake          0.003976  1.000000  1.000000  1.000000  0.000047  0.000011\n",
       "Mesquite      0.002099  1.000000  1.000000  1.000000  0.000023  0.000006\n",
       "Palm          0.005049  1.000000  1.000000  1.000000  0.000064  0.000016\n",
       "Stream        0.615019  0.000047  0.000023  0.000064  1.000000  1.000000\n",
       "Stream1       0.246783  0.000011  0.000006  0.000016  1.000000  1.000000"
      ]
     },
     "execution_count": 36,
     "metadata": {},
     "output_type": "execute_result"
    }
   ],
   "source": [
    "print('MYOCIL')\n",
    "post_hoc[3]"
   ]
  },
  {
   "cell_type": "code",
   "execution_count": 37,
   "metadata": {},
   "outputs": [
    {
     "name": "stdout",
     "output_type": "stream",
     "text": [
      "MYOVEL\n"
     ]
    },
    {
     "data": {
      "text/html": [
       "<div>\n",
       "<style scoped>\n",
       "    .dataframe tbody tr th:only-of-type {\n",
       "        vertical-align: middle;\n",
       "    }\n",
       "\n",
       "    .dataframe tbody tr th {\n",
       "        vertical-align: top;\n",
       "    }\n",
       "\n",
       "    .dataframe thead th {\n",
       "        text-align: right;\n",
       "    }\n",
       "</style>\n",
       "<table border=\"1\" class=\"dataframe\">\n",
       "  <thead>\n",
       "    <tr style=\"text-align: right;\">\n",
       "      <th></th>\n",
       "      <th>Cottonwood</th>\n",
       "      <th>Lake</th>\n",
       "      <th>Mesquite</th>\n",
       "      <th>Palm</th>\n",
       "      <th>Stream</th>\n",
       "      <th>Stream1</th>\n",
       "    </tr>\n",
       "  </thead>\n",
       "  <tbody>\n",
       "    <tr>\n",
       "      <th>Cottonwood</th>\n",
       "      <td>1.000000e+00</td>\n",
       "      <td>0.012576</td>\n",
       "      <td>3.701413e-07</td>\n",
       "      <td>6.529474e-07</td>\n",
       "      <td>0.012576</td>\n",
       "      <td>0.012576</td>\n",
       "    </tr>\n",
       "    <tr>\n",
       "      <th>Lake</th>\n",
       "      <td>1.257578e-02</td>\n",
       "      <td>1.000000</td>\n",
       "      <td>7.657527e-03</td>\n",
       "      <td>1.049776e-02</td>\n",
       "      <td>1.000000</td>\n",
       "      <td>1.000000</td>\n",
       "    </tr>\n",
       "    <tr>\n",
       "      <th>Mesquite</th>\n",
       "      <td>3.701413e-07</td>\n",
       "      <td>0.007658</td>\n",
       "      <td>1.000000e+00</td>\n",
       "      <td>1.000000e+00</td>\n",
       "      <td>0.007502</td>\n",
       "      <td>0.007658</td>\n",
       "    </tr>\n",
       "    <tr>\n",
       "      <th>Palm</th>\n",
       "      <td>6.529474e-07</td>\n",
       "      <td>0.010498</td>\n",
       "      <td>1.000000e+00</td>\n",
       "      <td>1.000000e+00</td>\n",
       "      <td>0.010498</td>\n",
       "      <td>0.010498</td>\n",
       "    </tr>\n",
       "    <tr>\n",
       "      <th>Stream</th>\n",
       "      <td>1.257578e-02</td>\n",
       "      <td>1.000000</td>\n",
       "      <td>7.502184e-03</td>\n",
       "      <td>1.049776e-02</td>\n",
       "      <td>1.000000</td>\n",
       "      <td>1.000000</td>\n",
       "    </tr>\n",
       "    <tr>\n",
       "      <th>Stream1</th>\n",
       "      <td>1.257578e-02</td>\n",
       "      <td>1.000000</td>\n",
       "      <td>7.657527e-03</td>\n",
       "      <td>1.049776e-02</td>\n",
       "      <td>1.000000</td>\n",
       "      <td>1.000000</td>\n",
       "    </tr>\n",
       "  </tbody>\n",
       "</table>\n",
       "</div>"
      ],
      "text/plain": [
       "              Cottonwood      Lake      Mesquite          Palm    Stream  \\\n",
       "Cottonwood  1.000000e+00  0.012576  3.701413e-07  6.529474e-07  0.012576   \n",
       "Lake        1.257578e-02  1.000000  7.657527e-03  1.049776e-02  1.000000   \n",
       "Mesquite    3.701413e-07  0.007658  1.000000e+00  1.000000e+00  0.007502   \n",
       "Palm        6.529474e-07  0.010498  1.000000e+00  1.000000e+00  0.010498   \n",
       "Stream      1.257578e-02  1.000000  7.502184e-03  1.049776e-02  1.000000   \n",
       "Stream1     1.257578e-02  1.000000  7.657527e-03  1.049776e-02  1.000000   \n",
       "\n",
       "             Stream1  \n",
       "Cottonwood  0.012576  \n",
       "Lake        1.000000  \n",
       "Mesquite    0.007658  \n",
       "Palm        0.010498  \n",
       "Stream      1.000000  \n",
       "Stream1     1.000000  "
      ]
     },
     "execution_count": 37,
     "metadata": {},
     "output_type": "execute_result"
    }
   ],
   "source": [
    "print('MYOVEL')\n",
    "post_hoc[4]"
   ]
  },
  {
   "cell_type": "code",
   "execution_count": 38,
   "metadata": {},
   "outputs": [
    {
     "name": "stdout",
     "output_type": "stream",
     "text": [
      "PARHES\n"
     ]
    },
    {
     "data": {
      "text/html": [
       "<div>\n",
       "<style scoped>\n",
       "    .dataframe tbody tr th:only-of-type {\n",
       "        vertical-align: middle;\n",
       "    }\n",
       "\n",
       "    .dataframe tbody tr th {\n",
       "        vertical-align: top;\n",
       "    }\n",
       "\n",
       "    .dataframe thead th {\n",
       "        text-align: right;\n",
       "    }\n",
       "</style>\n",
       "<table border=\"1\" class=\"dataframe\">\n",
       "  <thead>\n",
       "    <tr style=\"text-align: right;\">\n",
       "      <th></th>\n",
       "      <th>Cottonwood</th>\n",
       "      <th>Lake</th>\n",
       "      <th>Mesquite</th>\n",
       "      <th>Palm</th>\n",
       "      <th>Stream</th>\n",
       "      <th>Stream1</th>\n",
       "    </tr>\n",
       "  </thead>\n",
       "  <tbody>\n",
       "    <tr>\n",
       "      <th>Cottonwood</th>\n",
       "      <td>1.000000</td>\n",
       "      <td>1.245669e-04</td>\n",
       "      <td>6.499557e-05</td>\n",
       "      <td>1.806996e-01</td>\n",
       "      <td>1.968371e-03</td>\n",
       "      <td>1.019406e-05</td>\n",
       "    </tr>\n",
       "    <tr>\n",
       "      <th>Lake</th>\n",
       "      <td>0.000125</td>\n",
       "      <td>1.000000e+00</td>\n",
       "      <td>5.906956e-11</td>\n",
       "      <td>3.420799e-02</td>\n",
       "      <td>1.579773e-09</td>\n",
       "      <td>1.188641e-11</td>\n",
       "    </tr>\n",
       "    <tr>\n",
       "      <th>Mesquite</th>\n",
       "      <td>0.000065</td>\n",
       "      <td>5.906956e-11</td>\n",
       "      <td>1.000000e+00</td>\n",
       "      <td>1.574387e-07</td>\n",
       "      <td>4.535444e-01</td>\n",
       "      <td>5.259116e-01</td>\n",
       "    </tr>\n",
       "    <tr>\n",
       "      <th>Palm</th>\n",
       "      <td>0.180700</td>\n",
       "      <td>3.420799e-02</td>\n",
       "      <td>1.574387e-07</td>\n",
       "      <td>1.000000e+00</td>\n",
       "      <td>6.029103e-06</td>\n",
       "      <td>2.572147e-08</td>\n",
       "    </tr>\n",
       "    <tr>\n",
       "      <th>Stream</th>\n",
       "      <td>0.001968</td>\n",
       "      <td>1.579773e-09</td>\n",
       "      <td>4.535444e-01</td>\n",
       "      <td>6.029103e-06</td>\n",
       "      <td>1.000000e+00</td>\n",
       "      <td>2.088031e-01</td>\n",
       "    </tr>\n",
       "    <tr>\n",
       "      <th>Stream1</th>\n",
       "      <td>0.000010</td>\n",
       "      <td>1.188641e-11</td>\n",
       "      <td>5.259116e-01</td>\n",
       "      <td>2.572147e-08</td>\n",
       "      <td>2.088031e-01</td>\n",
       "      <td>1.000000e+00</td>\n",
       "    </tr>\n",
       "  </tbody>\n",
       "</table>\n",
       "</div>"
      ],
      "text/plain": [
       "            Cottonwood          Lake      Mesquite          Palm  \\\n",
       "Cottonwood    1.000000  1.245669e-04  6.499557e-05  1.806996e-01   \n",
       "Lake          0.000125  1.000000e+00  5.906956e-11  3.420799e-02   \n",
       "Mesquite      0.000065  5.906956e-11  1.000000e+00  1.574387e-07   \n",
       "Palm          0.180700  3.420799e-02  1.574387e-07  1.000000e+00   \n",
       "Stream        0.001968  1.579773e-09  4.535444e-01  6.029103e-06   \n",
       "Stream1       0.000010  1.188641e-11  5.259116e-01  2.572147e-08   \n",
       "\n",
       "                  Stream       Stream1  \n",
       "Cottonwood  1.968371e-03  1.019406e-05  \n",
       "Lake        1.579773e-09  1.188641e-11  \n",
       "Mesquite    4.535444e-01  5.259116e-01  \n",
       "Palm        6.029103e-06  2.572147e-08  \n",
       "Stream      1.000000e+00  2.088031e-01  \n",
       "Stream1     2.088031e-01  1.000000e+00  "
      ]
     },
     "execution_count": 38,
     "metadata": {},
     "output_type": "execute_result"
    }
   ],
   "source": [
    "print('PARHES')\n",
    "post_hoc[5]"
   ]
  },
  {
   "cell_type": "code",
   "execution_count": 39,
   "metadata": {},
   "outputs": [
    {
     "name": "stdout",
     "output_type": "stream",
     "text": [
      "TADBRA\n"
     ]
    },
    {
     "data": {
      "text/html": [
       "<div>\n",
       "<style scoped>\n",
       "    .dataframe tbody tr th:only-of-type {\n",
       "        vertical-align: middle;\n",
       "    }\n",
       "\n",
       "    .dataframe tbody tr th {\n",
       "        vertical-align: top;\n",
       "    }\n",
       "\n",
       "    .dataframe thead th {\n",
       "        text-align: right;\n",
       "    }\n",
       "</style>\n",
       "<table border=\"1\" class=\"dataframe\">\n",
       "  <thead>\n",
       "    <tr style=\"text-align: right;\">\n",
       "      <th></th>\n",
       "      <th>Cottonwood</th>\n",
       "      <th>Lake</th>\n",
       "      <th>Mesquite</th>\n",
       "      <th>Palm</th>\n",
       "      <th>Stream</th>\n",
       "      <th>Stream1</th>\n",
       "    </tr>\n",
       "  </thead>\n",
       "  <tbody>\n",
       "    <tr>\n",
       "      <th>Cottonwood</th>\n",
       "      <td>1.000000</td>\n",
       "      <td>9.463682e-04</td>\n",
       "      <td>4.904689e-06</td>\n",
       "      <td>6.345005e-01</td>\n",
       "      <td>1.774464e-04</td>\n",
       "      <td>1.765825e-03</td>\n",
       "    </tr>\n",
       "    <tr>\n",
       "      <th>Lake</th>\n",
       "      <td>0.000946</td>\n",
       "      <td>1.000000e+00</td>\n",
       "      <td>3.096074e-11</td>\n",
       "      <td>1.561511e-02</td>\n",
       "      <td>8.966068e-10</td>\n",
       "      <td>9.657566e-09</td>\n",
       "    </tr>\n",
       "    <tr>\n",
       "      <th>Mesquite</th>\n",
       "      <td>0.000005</td>\n",
       "      <td>3.096074e-11</td>\n",
       "      <td>1.000000e+00</td>\n",
       "      <td>1.864959e-07</td>\n",
       "      <td>6.345005e-01</td>\n",
       "      <td>1.581558e-01</td>\n",
       "    </tr>\n",
       "    <tr>\n",
       "      <th>Palm</th>\n",
       "      <td>0.634501</td>\n",
       "      <td>1.561511e-02</td>\n",
       "      <td>1.864959e-07</td>\n",
       "      <td>1.000000e+00</td>\n",
       "      <td>7.473143e-06</td>\n",
       "      <td>9.588924e-05</td>\n",
       "    </tr>\n",
       "    <tr>\n",
       "      <th>Stream</th>\n",
       "      <td>0.000177</td>\n",
       "      <td>8.966068e-10</td>\n",
       "      <td>6.345005e-01</td>\n",
       "      <td>7.473143e-06</td>\n",
       "      <td>1.000000e+00</td>\n",
       "      <td>6.345005e-01</td>\n",
       "    </tr>\n",
       "    <tr>\n",
       "      <th>Stream1</th>\n",
       "      <td>0.001766</td>\n",
       "      <td>9.657566e-09</td>\n",
       "      <td>1.581558e-01</td>\n",
       "      <td>9.588924e-05</td>\n",
       "      <td>6.345005e-01</td>\n",
       "      <td>1.000000e+00</td>\n",
       "    </tr>\n",
       "  </tbody>\n",
       "</table>\n",
       "</div>"
      ],
      "text/plain": [
       "            Cottonwood          Lake      Mesquite          Palm  \\\n",
       "Cottonwood    1.000000  9.463682e-04  4.904689e-06  6.345005e-01   \n",
       "Lake          0.000946  1.000000e+00  3.096074e-11  1.561511e-02   \n",
       "Mesquite      0.000005  3.096074e-11  1.000000e+00  1.864959e-07   \n",
       "Palm          0.634501  1.561511e-02  1.864959e-07  1.000000e+00   \n",
       "Stream        0.000177  8.966068e-10  6.345005e-01  7.473143e-06   \n",
       "Stream1       0.001766  9.657566e-09  1.581558e-01  9.588924e-05   \n",
       "\n",
       "                  Stream       Stream1  \n",
       "Cottonwood  1.774464e-04  1.765825e-03  \n",
       "Lake        8.966068e-10  9.657566e-09  \n",
       "Mesquite    6.345005e-01  1.581558e-01  \n",
       "Palm        7.473143e-06  9.588924e-05  \n",
       "Stream      1.000000e+00  6.345005e-01  \n",
       "Stream1     6.345005e-01  1.000000e+00  "
      ]
     },
     "execution_count": 39,
     "metadata": {},
     "output_type": "execute_result"
    }
   ],
   "source": [
    "print('TADBRA')\n",
    "post_hoc[6]"
   ]
  },
  {
   "cell_type": "code",
   "execution_count": 40,
   "metadata": {},
   "outputs": [
    {
     "name": "stdout",
     "output_type": "stream",
     "text": [
      "Tot_Bat_det\n"
     ]
    },
    {
     "data": {
      "text/html": [
       "<div>\n",
       "<style scoped>\n",
       "    .dataframe tbody tr th:only-of-type {\n",
       "        vertical-align: middle;\n",
       "    }\n",
       "\n",
       "    .dataframe tbody tr th {\n",
       "        vertical-align: top;\n",
       "    }\n",
       "\n",
       "    .dataframe thead th {\n",
       "        text-align: right;\n",
       "    }\n",
       "</style>\n",
       "<table border=\"1\" class=\"dataframe\">\n",
       "  <thead>\n",
       "    <tr style=\"text-align: right;\">\n",
       "      <th></th>\n",
       "      <th>Cottonwood</th>\n",
       "      <th>Lake</th>\n",
       "      <th>Mesquite</th>\n",
       "      <th>Palm</th>\n",
       "      <th>Stream</th>\n",
       "      <th>Stream1</th>\n",
       "    </tr>\n",
       "  </thead>\n",
       "  <tbody>\n",
       "    <tr>\n",
       "      <th>Cottonwood</th>\n",
       "      <td>1.000000</td>\n",
       "      <td>1.423255e-05</td>\n",
       "      <td>5.513341e-06</td>\n",
       "      <td>5.155316e-02</td>\n",
       "      <td>4.315293e-01</td>\n",
       "      <td>8.634355e-02</td>\n",
       "    </tr>\n",
       "    <tr>\n",
       "      <th>Lake</th>\n",
       "      <td>0.000014</td>\n",
       "      <td>1.000000e+00</td>\n",
       "      <td>7.839783e-13</td>\n",
       "      <td>1.639162e-02</td>\n",
       "      <td>7.559355e-07</td>\n",
       "      <td>1.914381e-08</td>\n",
       "    </tr>\n",
       "    <tr>\n",
       "      <th>Mesquite</th>\n",
       "      <td>0.000006</td>\n",
       "      <td>7.839783e-13</td>\n",
       "      <td>1.000000e+00</td>\n",
       "      <td>2.928055e-09</td>\n",
       "      <td>1.031180e-04</td>\n",
       "      <td>3.469479e-03</td>\n",
       "    </tr>\n",
       "    <tr>\n",
       "      <th>Palm</th>\n",
       "      <td>0.051553</td>\n",
       "      <td>1.639162e-02</td>\n",
       "      <td>2.928055e-09</td>\n",
       "      <td>1.000000e+00</td>\n",
       "      <td>5.172722e-03</td>\n",
       "      <td>1.657242e-04</td>\n",
       "    </tr>\n",
       "    <tr>\n",
       "      <th>Stream</th>\n",
       "      <td>0.431529</td>\n",
       "      <td>7.559355e-07</td>\n",
       "      <td>1.031180e-04</td>\n",
       "      <td>5.172722e-03</td>\n",
       "      <td>1.000000e+00</td>\n",
       "      <td>4.315293e-01</td>\n",
       "    </tr>\n",
       "    <tr>\n",
       "      <th>Stream1</th>\n",
       "      <td>0.086344</td>\n",
       "      <td>1.914381e-08</td>\n",
       "      <td>3.469479e-03</td>\n",
       "      <td>1.657242e-04</td>\n",
       "      <td>4.315293e-01</td>\n",
       "      <td>1.000000e+00</td>\n",
       "    </tr>\n",
       "  </tbody>\n",
       "</table>\n",
       "</div>"
      ],
      "text/plain": [
       "            Cottonwood          Lake      Mesquite          Palm  \\\n",
       "Cottonwood    1.000000  1.423255e-05  5.513341e-06  5.155316e-02   \n",
       "Lake          0.000014  1.000000e+00  7.839783e-13  1.639162e-02   \n",
       "Mesquite      0.000006  7.839783e-13  1.000000e+00  2.928055e-09   \n",
       "Palm          0.051553  1.639162e-02  2.928055e-09  1.000000e+00   \n",
       "Stream        0.431529  7.559355e-07  1.031180e-04  5.172722e-03   \n",
       "Stream1       0.086344  1.914381e-08  3.469479e-03  1.657242e-04   \n",
       "\n",
       "                  Stream       Stream1  \n",
       "Cottonwood  4.315293e-01  8.634355e-02  \n",
       "Lake        7.559355e-07  1.914381e-08  \n",
       "Mesquite    1.031180e-04  3.469479e-03  \n",
       "Palm        5.172722e-03  1.657242e-04  \n",
       "Stream      1.000000e+00  4.315293e-01  \n",
       "Stream1     4.315293e-01  1.000000e+00  "
      ]
     },
     "execution_count": 40,
     "metadata": {},
     "output_type": "execute_result"
    }
   ],
   "source": [
    "print('Tot_Bat_det')\n",
    "post_hoc[7]"
   ]
  },
  {
   "cell_type": "code",
   "execution_count": 41,
   "metadata": {},
   "outputs": [
    {
     "name": "stdout",
     "output_type": "stream",
     "text": [
      "Total_Species\n"
     ]
    },
    {
     "data": {
      "text/html": [
       "<div>\n",
       "<style scoped>\n",
       "    .dataframe tbody tr th:only-of-type {\n",
       "        vertical-align: middle;\n",
       "    }\n",
       "\n",
       "    .dataframe tbody tr th {\n",
       "        vertical-align: top;\n",
       "    }\n",
       "\n",
       "    .dataframe thead th {\n",
       "        text-align: right;\n",
       "    }\n",
       "</style>\n",
       "<table border=\"1\" class=\"dataframe\">\n",
       "  <thead>\n",
       "    <tr style=\"text-align: right;\">\n",
       "      <th></th>\n",
       "      <th>Cottonwood</th>\n",
       "      <th>Lake</th>\n",
       "      <th>Mesquite</th>\n",
       "      <th>Palm</th>\n",
       "      <th>Stream</th>\n",
       "      <th>Stream1</th>\n",
       "    </tr>\n",
       "  </thead>\n",
       "  <tbody>\n",
       "    <tr>\n",
       "      <th>Cottonwood</th>\n",
       "      <td>1.000000</td>\n",
       "      <td>0.001072</td>\n",
       "      <td>0.200711</td>\n",
       "      <td>0.150742</td>\n",
       "      <td>0.612425</td>\n",
       "      <td>0.150742</td>\n",
       "    </tr>\n",
       "    <tr>\n",
       "      <th>Lake</th>\n",
       "      <td>0.001072</td>\n",
       "      <td>1.000000</td>\n",
       "      <td>0.000001</td>\n",
       "      <td>0.352922</td>\n",
       "      <td>0.055312</td>\n",
       "      <td>0.352922</td>\n",
       "    </tr>\n",
       "    <tr>\n",
       "      <th>Mesquite</th>\n",
       "      <td>0.200711</td>\n",
       "      <td>0.000001</td>\n",
       "      <td>1.000000</td>\n",
       "      <td>0.000432</td>\n",
       "      <td>0.007052</td>\n",
       "      <td>0.000401</td>\n",
       "    </tr>\n",
       "    <tr>\n",
       "      <th>Palm</th>\n",
       "      <td>0.150742</td>\n",
       "      <td>0.352922</td>\n",
       "      <td>0.000432</td>\n",
       "      <td>1.000000</td>\n",
       "      <td>0.902816</td>\n",
       "      <td>0.961035</td>\n",
       "    </tr>\n",
       "    <tr>\n",
       "      <th>Stream</th>\n",
       "      <td>0.612425</td>\n",
       "      <td>0.055312</td>\n",
       "      <td>0.007052</td>\n",
       "      <td>0.902816</td>\n",
       "      <td>1.000000</td>\n",
       "      <td>0.902816</td>\n",
       "    </tr>\n",
       "    <tr>\n",
       "      <th>Stream1</th>\n",
       "      <td>0.150742</td>\n",
       "      <td>0.352922</td>\n",
       "      <td>0.000401</td>\n",
       "      <td>0.961035</td>\n",
       "      <td>0.902816</td>\n",
       "      <td>1.000000</td>\n",
       "    </tr>\n",
       "  </tbody>\n",
       "</table>\n",
       "</div>"
      ],
      "text/plain": [
       "            Cottonwood      Lake  Mesquite      Palm    Stream   Stream1\n",
       "Cottonwood    1.000000  0.001072  0.200711  0.150742  0.612425  0.150742\n",
       "Lake          0.001072  1.000000  0.000001  0.352922  0.055312  0.352922\n",
       "Mesquite      0.200711  0.000001  1.000000  0.000432  0.007052  0.000401\n",
       "Palm          0.150742  0.352922  0.000432  1.000000  0.902816  0.961035\n",
       "Stream        0.612425  0.055312  0.007052  0.902816  1.000000  0.902816\n",
       "Stream1       0.150742  0.352922  0.000401  0.961035  0.902816  1.000000"
      ]
     },
     "execution_count": 41,
     "metadata": {},
     "output_type": "execute_result"
    }
   ],
   "source": [
    "print('Total_Species')\n",
    "post_hoc[8]"
   ]
  },
  {
   "cell_type": "markdown",
   "metadata": {},
   "source": [
    "# MANOVA"
   ]
  },
  {
   "cell_type": "code",
   "execution_count": 42,
   "metadata": {},
   "outputs": [],
   "source": [
    "#Install package for manova\n",
    "from statsmodels.multivariate.manova import MANOVA"
   ]
  },
  {
   "cell_type": "code",
   "execution_count": 43,
   "metadata": {},
   "outputs": [
    {
     "name": "stdout",
     "output_type": "stream",
     "text": [
      "                   Multivariate linear model\n",
      "================================================================\n",
      "                                                                \n",
      "----------------------------------------------------------------\n",
      "         Intercept         Value  Num DF  Den DF F Value  Pr > F\n",
      "----------------------------------------------------------------\n",
      "            Wilks' lambda  0.0232 9.0000 28.0000 130.8211 0.0000\n",
      "           Pillai's trace  0.9768 9.0000 28.0000 130.8211 0.0000\n",
      "   Hotelling-Lawley trace 42.0496 9.0000 28.0000 130.8211 0.0000\n",
      "      Roy's greatest root 42.0496 9.0000 28.0000 130.8211 0.0000\n",
      "----------------------------------------------------------------\n",
      "                                                                \n",
      "----------------------------------------------------------------\n",
      "        Habitat          Value   Num DF  Den DF  F Value  Pr > F\n",
      "----------------------------------------------------------------\n",
      "          Wilks' lambda  0.0002 45.0000 128.3536  16.9630 0.0000\n",
      "         Pillai's trace  3.3929 45.0000 160.0000   7.5065 0.0000\n",
      " Hotelling-Lawley trace 63.7428 45.0000  73.6934  37.8566 0.0000\n",
      "    Roy's greatest root 51.5861  9.0000  32.0000 183.4174 0.0000\n",
      "================================================================\n",
      "\n"
     ]
    }
   ],
   "source": [
    "#Overall manova for seven most common species, total detections and total species.\n",
    "#Being data is not normally distributed this is not an appropriate test, but is carried out anyway for curiosity sake.\n",
    "manova = MANOVA.from_formula('EPTFUS + LASNOC + LASXAN + MYOCIL + MYOVEL + PARHES + TADBRA + Tot_Bat_det + Total_Species ~ Habitat', data=df)\n",
    "print(manova.mv_test())"
   ]
  },
  {
   "cell_type": "markdown",
   "metadata": {},
   "source": [
    "A statistically significant difference is found across all habitats for the bat communities."
   ]
  },
  {
   "cell_type": "markdown",
   "metadata": {},
   "source": [
    "# Non-parametric MANOVA"
   ]
  },
  {
   "cell_type": "code",
   "execution_count": 44,
   "metadata": {},
   "outputs": [],
   "source": [
    "#Converting data to rank due to non-normal distribution\n",
    "rank_df = df[['EPTFUS', 'LASNOC', 'LASXAN', 'MYOCIL', 'MYOVEL', 'PARHES', 'TADBRA', 'Tot_Bat_det']].rank()\n",
    "rank_df['Habitat'] = df['Habitat']\n",
    "rank_df['Total_Species'] = df['Total_Species']"
   ]
  },
  {
   "cell_type": "code",
   "execution_count": 45,
   "metadata": {},
   "outputs": [
    {
     "data": {
      "text/html": [
       "<div>\n",
       "<style scoped>\n",
       "    .dataframe tbody tr th:only-of-type {\n",
       "        vertical-align: middle;\n",
       "    }\n",
       "\n",
       "    .dataframe tbody tr th {\n",
       "        vertical-align: top;\n",
       "    }\n",
       "\n",
       "    .dataframe thead th {\n",
       "        text-align: right;\n",
       "    }\n",
       "</style>\n",
       "<table border=\"1\" class=\"dataframe\">\n",
       "  <thead>\n",
       "    <tr style=\"text-align: right;\">\n",
       "      <th></th>\n",
       "      <th>EPTFUS</th>\n",
       "      <th>LASNOC</th>\n",
       "      <th>LASXAN</th>\n",
       "      <th>MYOCIL</th>\n",
       "      <th>MYOVEL</th>\n",
       "      <th>PARHES</th>\n",
       "      <th>TADBRA</th>\n",
       "      <th>Tot_Bat_det</th>\n",
       "      <th>Habitat</th>\n",
       "      <th>Total_Species</th>\n",
       "    </tr>\n",
       "  </thead>\n",
       "  <tbody>\n",
       "    <tr>\n",
       "      <th>0</th>\n",
       "      <td>12.0</td>\n",
       "      <td>16.0</td>\n",
       "      <td>20.5</td>\n",
       "      <td>42.0</td>\n",
       "      <td>26.0</td>\n",
       "      <td>10.0</td>\n",
       "      <td>25.0</td>\n",
       "      <td>26.0</td>\n",
       "      <td>Stream</td>\n",
       "      <td>15</td>\n",
       "    </tr>\n",
       "    <tr>\n",
       "      <th>1</th>\n",
       "      <td>23.0</td>\n",
       "      <td>13.5</td>\n",
       "      <td>25.5</td>\n",
       "      <td>28.5</td>\n",
       "      <td>17.0</td>\n",
       "      <td>3.5</td>\n",
       "      <td>3.0</td>\n",
       "      <td>10.0</td>\n",
       "      <td>Stream</td>\n",
       "      <td>16</td>\n",
       "    </tr>\n",
       "    <tr>\n",
       "      <th>2</th>\n",
       "      <td>24.5</td>\n",
       "      <td>13.5</td>\n",
       "      <td>31.0</td>\n",
       "      <td>39.0</td>\n",
       "      <td>18.5</td>\n",
       "      <td>16.5</td>\n",
       "      <td>19.0</td>\n",
       "      <td>25.0</td>\n",
       "      <td>Stream</td>\n",
       "      <td>14</td>\n",
       "    </tr>\n",
       "    <tr>\n",
       "      <th>3</th>\n",
       "      <td>30.0</td>\n",
       "      <td>1.5</td>\n",
       "      <td>24.0</td>\n",
       "      <td>22.0</td>\n",
       "      <td>22.5</td>\n",
       "      <td>10.0</td>\n",
       "      <td>15.5</td>\n",
       "      <td>16.0</td>\n",
       "      <td>Stream</td>\n",
       "      <td>13</td>\n",
       "    </tr>\n",
       "    <tr>\n",
       "      <th>4</th>\n",
       "      <td>28.0</td>\n",
       "      <td>7.0</td>\n",
       "      <td>27.0</td>\n",
       "      <td>27.0</td>\n",
       "      <td>18.5</td>\n",
       "      <td>16.5</td>\n",
       "      <td>5.0</td>\n",
       "      <td>15.0</td>\n",
       "      <td>Stream</td>\n",
       "      <td>13</td>\n",
       "    </tr>\n",
       "  </tbody>\n",
       "</table>\n",
       "</div>"
      ],
      "text/plain": [
       "   EPTFUS  LASNOC  LASXAN  MYOCIL  MYOVEL  PARHES  TADBRA  Tot_Bat_det  \\\n",
       "0    12.0    16.0    20.5    42.0    26.0    10.0    25.0         26.0   \n",
       "1    23.0    13.5    25.5    28.5    17.0     3.5     3.0         10.0   \n",
       "2    24.5    13.5    31.0    39.0    18.5    16.5    19.0         25.0   \n",
       "3    30.0     1.5    24.0    22.0    22.5    10.0    15.5         16.0   \n",
       "4    28.0     7.0    27.0    27.0    18.5    16.5     5.0         15.0   \n",
       "\n",
       "  Habitat  Total_Species  \n",
       "0  Stream             15  \n",
       "1  Stream             16  \n",
       "2  Stream             14  \n",
       "3  Stream             13  \n",
       "4  Stream             13  "
      ]
     },
     "execution_count": 45,
     "metadata": {},
     "output_type": "execute_result"
    }
   ],
   "source": [
    "rank_df.head()"
   ]
  },
  {
   "cell_type": "code",
   "execution_count": 46,
   "metadata": {},
   "outputs": [
    {
     "name": "stdout",
     "output_type": "stream",
     "text": [
      "                   Multivariate linear model\n",
      "===============================================================\n",
      "                                                               \n",
      "---------------------------------------------------------------\n",
      "        Intercept         Value  Num DF  Den DF F Value  Pr > F\n",
      "---------------------------------------------------------------\n",
      "           Wilks' lambda  0.0159 9.0000 28.0000 192.0709 0.0000\n",
      "          Pillai's trace  0.9841 9.0000 28.0000 192.0709 0.0000\n",
      "  Hotelling-Lawley trace 61.7371 9.0000 28.0000 192.0709 0.0000\n",
      "     Roy's greatest root 61.7371 9.0000 28.0000 192.0709 0.0000\n",
      "---------------------------------------------------------------\n",
      "                                                               \n",
      "---------------------------------------------------------------\n",
      "        Habitat          Value   Num DF  Den DF  F Value Pr > F\n",
      "---------------------------------------------------------------\n",
      "          Wilks' lambda  0.0007 45.0000 128.3536 11.6221 0.0000\n",
      "         Pillai's trace  3.0247 45.0000 160.0000  5.4443 0.0000\n",
      " Hotelling-Lawley trace 32.9040 45.0000  73.6934 19.5415 0.0000\n",
      "    Roy's greatest root 19.9426  9.0000  32.0000 70.9071 0.0000\n",
      "===============================================================\n",
      "\n"
     ]
    }
   ],
   "source": [
    "#Carrying out rank manova for seven most common species, total detections and total species.\n",
    "rank_manova = MANOVA.from_formula('EPTFUS + LASNOC + LASXAN + MYOCIL + MYOVEL + PARHES + TADBRA + Tot_Bat_det +Total_Species ~ Habitat', data=rank_df)\n",
    "print(rank_manova.mv_test())"
   ]
  },
  {
   "cell_type": "markdown",
   "metadata": {},
   "source": [
    "A statistically significant difference is found across all habitats for the bat communities."
   ]
  },
  {
   "cell_type": "markdown",
   "metadata": {},
   "source": [
    "## Rank-MANOVA Pairwise Comparison"
   ]
  },
  {
   "cell_type": "code",
   "execution_count": 47,
   "metadata": {},
   "outputs": [
    {
     "data": {
      "text/plain": [
       "['Stream', 'Cottonwood', 'Stream1', 'Mesquite', 'Lake', 'Palm']"
      ]
     },
     "execution_count": 47,
     "metadata": {},
     "output_type": "execute_result"
    }
   ],
   "source": [
    "#Create list of all habitats sampled\n",
    "hab_list = list(rank_df['Habitat'].unique())\n",
    "hab_list"
   ]
  },
  {
   "cell_type": "code",
   "execution_count": 48,
   "metadata": {},
   "outputs": [
    {
     "data": {
      "text/html": [
       "<div>\n",
       "<style scoped>\n",
       "    .dataframe tbody tr th:only-of-type {\n",
       "        vertical-align: middle;\n",
       "    }\n",
       "\n",
       "    .dataframe tbody tr th {\n",
       "        vertical-align: top;\n",
       "    }\n",
       "\n",
       "    .dataframe thead th {\n",
       "        text-align: right;\n",
       "    }\n",
       "</style>\n",
       "<table border=\"1\" class=\"dataframe\">\n",
       "  <thead>\n",
       "    <tr style=\"text-align: right;\">\n",
       "      <th></th>\n",
       "      <th>EPTFUS</th>\n",
       "      <th>LASNOC</th>\n",
       "      <th>LASXAN</th>\n",
       "      <th>MYOCIL</th>\n",
       "      <th>MYOVEL</th>\n",
       "      <th>PARHES</th>\n",
       "      <th>TADBRA</th>\n",
       "      <th>Tot_Bat_det</th>\n",
       "      <th>Habitat</th>\n",
       "      <th>Total_Species</th>\n",
       "    </tr>\n",
       "  </thead>\n",
       "  <tbody>\n",
       "    <tr>\n",
       "      <th>0</th>\n",
       "      <td>12.0</td>\n",
       "      <td>16.0</td>\n",
       "      <td>20.5</td>\n",
       "      <td>42.0</td>\n",
       "      <td>26.0</td>\n",
       "      <td>10.0</td>\n",
       "      <td>25.0</td>\n",
       "      <td>26.0</td>\n",
       "      <td>Stream</td>\n",
       "      <td>15</td>\n",
       "    </tr>\n",
       "    <tr>\n",
       "      <th>1</th>\n",
       "      <td>23.0</td>\n",
       "      <td>13.5</td>\n",
       "      <td>25.5</td>\n",
       "      <td>28.5</td>\n",
       "      <td>17.0</td>\n",
       "      <td>3.5</td>\n",
       "      <td>3.0</td>\n",
       "      <td>10.0</td>\n",
       "      <td>Stream</td>\n",
       "      <td>16</td>\n",
       "    </tr>\n",
       "    <tr>\n",
       "      <th>2</th>\n",
       "      <td>24.5</td>\n",
       "      <td>13.5</td>\n",
       "      <td>31.0</td>\n",
       "      <td>39.0</td>\n",
       "      <td>18.5</td>\n",
       "      <td>16.5</td>\n",
       "      <td>19.0</td>\n",
       "      <td>25.0</td>\n",
       "      <td>Stream</td>\n",
       "      <td>14</td>\n",
       "    </tr>\n",
       "    <tr>\n",
       "      <th>3</th>\n",
       "      <td>30.0</td>\n",
       "      <td>1.5</td>\n",
       "      <td>24.0</td>\n",
       "      <td>22.0</td>\n",
       "      <td>22.5</td>\n",
       "      <td>10.0</td>\n",
       "      <td>15.5</td>\n",
       "      <td>16.0</td>\n",
       "      <td>Stream</td>\n",
       "      <td>13</td>\n",
       "    </tr>\n",
       "    <tr>\n",
       "      <th>4</th>\n",
       "      <td>28.0</td>\n",
       "      <td>7.0</td>\n",
       "      <td>27.0</td>\n",
       "      <td>27.0</td>\n",
       "      <td>18.5</td>\n",
       "      <td>16.5</td>\n",
       "      <td>5.0</td>\n",
       "      <td>15.0</td>\n",
       "      <td>Stream</td>\n",
       "      <td>13</td>\n",
       "    </tr>\n",
       "    <tr>\n",
       "      <th>5</th>\n",
       "      <td>20.5</td>\n",
       "      <td>7.0</td>\n",
       "      <td>22.5</td>\n",
       "      <td>34.0</td>\n",
       "      <td>32.0</td>\n",
       "      <td>22.0</td>\n",
       "      <td>13.0</td>\n",
       "      <td>20.0</td>\n",
       "      <td>Stream</td>\n",
       "      <td>14</td>\n",
       "    </tr>\n",
       "    <tr>\n",
       "      <th>6</th>\n",
       "      <td>18.0</td>\n",
       "      <td>1.5</td>\n",
       "      <td>25.5</td>\n",
       "      <td>36.0</td>\n",
       "      <td>35.5</td>\n",
       "      <td>20.5</td>\n",
       "      <td>2.0</td>\n",
       "      <td>21.0</td>\n",
       "      <td>Stream</td>\n",
       "      <td>15</td>\n",
       "    </tr>\n",
       "    <tr>\n",
       "      <th>14</th>\n",
       "      <td>27.0</td>\n",
       "      <td>7.0</td>\n",
       "      <td>3.5</td>\n",
       "      <td>40.0</td>\n",
       "      <td>27.0</td>\n",
       "      <td>1.5</td>\n",
       "      <td>12.0</td>\n",
       "      <td>22.0</td>\n",
       "      <td>Stream1</td>\n",
       "      <td>15</td>\n",
       "    </tr>\n",
       "    <tr>\n",
       "      <th>15</th>\n",
       "      <td>22.0</td>\n",
       "      <td>17.0</td>\n",
       "      <td>12.5</td>\n",
       "      <td>41.0</td>\n",
       "      <td>33.0</td>\n",
       "      <td>13.5</td>\n",
       "      <td>22.0</td>\n",
       "      <td>27.0</td>\n",
       "      <td>Stream1</td>\n",
       "      <td>15</td>\n",
       "    </tr>\n",
       "    <tr>\n",
       "      <th>16</th>\n",
       "      <td>17.0</td>\n",
       "      <td>7.0</td>\n",
       "      <td>6.5</td>\n",
       "      <td>37.5</td>\n",
       "      <td>28.5</td>\n",
       "      <td>13.5</td>\n",
       "      <td>20.0</td>\n",
       "      <td>17.0</td>\n",
       "      <td>Stream1</td>\n",
       "      <td>16</td>\n",
       "    </tr>\n",
       "    <tr>\n",
       "      <th>17</th>\n",
       "      <td>15.0</td>\n",
       "      <td>7.0</td>\n",
       "      <td>16.5</td>\n",
       "      <td>33.0</td>\n",
       "      <td>24.0</td>\n",
       "      <td>20.5</td>\n",
       "      <td>10.0</td>\n",
       "      <td>11.0</td>\n",
       "      <td>Stream1</td>\n",
       "      <td>15</td>\n",
       "    </tr>\n",
       "    <tr>\n",
       "      <th>18</th>\n",
       "      <td>13.0</td>\n",
       "      <td>7.0</td>\n",
       "      <td>16.5</td>\n",
       "      <td>23.0</td>\n",
       "      <td>12.5</td>\n",
       "      <td>6.0</td>\n",
       "      <td>8.5</td>\n",
       "      <td>8.0</td>\n",
       "      <td>Stream1</td>\n",
       "      <td>15</td>\n",
       "    </tr>\n",
       "    <tr>\n",
       "      <th>19</th>\n",
       "      <td>14.0</td>\n",
       "      <td>7.0</td>\n",
       "      <td>12.5</td>\n",
       "      <td>31.0</td>\n",
       "      <td>15.0</td>\n",
       "      <td>6.0</td>\n",
       "      <td>17.0</td>\n",
       "      <td>9.0</td>\n",
       "      <td>Stream1</td>\n",
       "      <td>15</td>\n",
       "    </tr>\n",
       "    <tr>\n",
       "      <th>20</th>\n",
       "      <td>9.0</td>\n",
       "      <td>13.5</td>\n",
       "      <td>19.0</td>\n",
       "      <td>37.5</td>\n",
       "      <td>28.5</td>\n",
       "      <td>1.5</td>\n",
       "      <td>11.0</td>\n",
       "      <td>13.0</td>\n",
       "      <td>Stream1</td>\n",
       "      <td>13</td>\n",
       "    </tr>\n",
       "  </tbody>\n",
       "</table>\n",
       "</div>"
      ],
      "text/plain": [
       "    EPTFUS  LASNOC  LASXAN  MYOCIL  MYOVEL  PARHES  TADBRA  Tot_Bat_det  \\\n",
       "0     12.0    16.0    20.5    42.0    26.0    10.0    25.0         26.0   \n",
       "1     23.0    13.5    25.5    28.5    17.0     3.5     3.0         10.0   \n",
       "2     24.5    13.5    31.0    39.0    18.5    16.5    19.0         25.0   \n",
       "3     30.0     1.5    24.0    22.0    22.5    10.0    15.5         16.0   \n",
       "4     28.0     7.0    27.0    27.0    18.5    16.5     5.0         15.0   \n",
       "5     20.5     7.0    22.5    34.0    32.0    22.0    13.0         20.0   \n",
       "6     18.0     1.5    25.5    36.0    35.5    20.5     2.0         21.0   \n",
       "14    27.0     7.0     3.5    40.0    27.0     1.5    12.0         22.0   \n",
       "15    22.0    17.0    12.5    41.0    33.0    13.5    22.0         27.0   \n",
       "16    17.0     7.0     6.5    37.5    28.5    13.5    20.0         17.0   \n",
       "17    15.0     7.0    16.5    33.0    24.0    20.5    10.0         11.0   \n",
       "18    13.0     7.0    16.5    23.0    12.5     6.0     8.5          8.0   \n",
       "19    14.0     7.0    12.5    31.0    15.0     6.0    17.0          9.0   \n",
       "20     9.0    13.5    19.0    37.5    28.5     1.5    11.0         13.0   \n",
       "\n",
       "    Habitat  Total_Species  \n",
       "0    Stream             15  \n",
       "1    Stream             16  \n",
       "2    Stream             14  \n",
       "3    Stream             13  \n",
       "4    Stream             13  \n",
       "5    Stream             14  \n",
       "6    Stream             15  \n",
       "14  Stream1             15  \n",
       "15  Stream1             15  \n",
       "16  Stream1             16  \n",
       "17  Stream1             15  \n",
       "18  Stream1             15  \n",
       "19  Stream1             15  \n",
       "20  Stream1             13  "
      ]
     },
     "execution_count": 48,
     "metadata": {},
     "output_type": "execute_result"
    }
   ],
   "source": [
    "#Dataframe where Stream and Stream1 sampling sites can be compared.\n",
    "rank_df[(rank_df['Habitat'] == 'Stream1') | (rank_df['Habitat'] == 'Stream')]"
   ]
  },
  {
   "cell_type": "code",
   "execution_count": 49,
   "metadata": {},
   "outputs": [],
   "source": [
    "#Creating function so different sites can be compared.\n",
    "def pwc_manova(habitat_1, habitat_2):\n",
    "    rank_manova = MANOVA.from_formula('EPTFUS + LASNOC + LASXAN + MYOCIL + MYOVEL + PARHES + TADBRA + Tot_Bat_det + Total_Species ~ Habitat', \n",
    "                                  data=rank_df[(rank_df['Habitat'] == habitat_1) | (rank_df['Habitat'] == habitat_2)])\n",
    "    print(habitat_1, ' to', habitat_2, ' Comparison')\n",
    "    print(rank_manova.mv_test())"
   ]
  },
  {
   "cell_type": "code",
   "execution_count": 50,
   "metadata": {},
   "outputs": [
    {
     "name": "stdout",
     "output_type": "stream",
     "text": [
      "Stream  to Stream1  Comparison\n",
      "                  Multivariate linear model\n",
      "==============================================================\n",
      "                                                              \n",
      "--------------------------------------------------------------\n",
      "       Intercept         Value   Num DF Den DF F Value  Pr > F\n",
      "--------------------------------------------------------------\n",
      "          Wilks' lambda   0.0015 9.0000 4.0000 299.5780 0.0000\n",
      "         Pillai's trace   0.9985 9.0000 4.0000 299.5780 0.0000\n",
      " Hotelling-Lawley trace 674.0505 9.0000 4.0000 299.5780 0.0000\n",
      "    Roy's greatest root 674.0505 9.0000 4.0000 299.5780 0.0000\n",
      "--------------------------------------------------------------\n",
      "                                                              \n",
      "--------------------------------------------------------------\n",
      "           Habitat         Value  Num DF Den DF F Value Pr > F\n",
      "--------------------------------------------------------------\n",
      "             Wilks' lambda 0.1263 9.0000 4.0000  3.0733 0.1459\n",
      "            Pillai's trace 0.8737 9.0000 4.0000  3.0733 0.1459\n",
      "    Hotelling-Lawley trace 6.9148 9.0000 4.0000  3.0733 0.1459\n",
      "       Roy's greatest root 6.9148 9.0000 4.0000  3.0733 0.1459\n",
      "==============================================================\n",
      "\n"
     ]
    },
    {
     "name": "stderr",
     "output_type": "stream",
     "text": [
      "C:\\Users\\matta\\anaconda3\\lib\\site-packages\\statsmodels\\multivariate\\multivariate_ols.py:218: RuntimeWarning: divide by zero encountered in double_scalars\n",
      "  b = (p + 2*n) * (q + 2*n) / 2 / (2*n + 1) / (n - 1)\n"
     ]
    }
   ],
   "source": [
    "pwc_manova('Stream', 'Stream1')"
   ]
  },
  {
   "cell_type": "code",
   "execution_count": 51,
   "metadata": {},
   "outputs": [
    {
     "name": "stdout",
     "output_type": "stream",
     "text": [
      "Stream  to Cottonwood  Comparison\n",
      "                  Multivariate linear model\n",
      "==============================================================\n",
      "                                                              \n",
      "--------------------------------------------------------------\n",
      "       Intercept         Value   Num DF Den DF F Value  Pr > F\n",
      "--------------------------------------------------------------\n",
      "          Wilks' lambda   0.0017 9.0000 4.0000 259.5890 0.0000\n",
      "         Pillai's trace   0.9983 9.0000 4.0000 259.5890 0.0000\n",
      " Hotelling-Lawley trace 584.0753 9.0000 4.0000 259.5890 0.0000\n",
      "    Roy's greatest root 584.0753 9.0000 4.0000 259.5890 0.0000\n",
      "--------------------------------------------------------------\n",
      "                                                              \n",
      "--------------------------------------------------------------\n",
      "          Habitat          Value  Num DF Den DF F Value Pr > F\n",
      "--------------------------------------------------------------\n",
      "            Wilks' lambda  0.0121 9.0000 4.0000 36.3606 0.0018\n",
      "           Pillai's trace  0.9879 9.0000 4.0000 36.3606 0.0018\n",
      "   Hotelling-Lawley trace 81.8114 9.0000 4.0000 36.3606 0.0018\n",
      "      Roy's greatest root 81.8114 9.0000 4.0000 36.3606 0.0018\n",
      "==============================================================\n",
      "\n"
     ]
    },
    {
     "name": "stderr",
     "output_type": "stream",
     "text": [
      "C:\\Users\\matta\\anaconda3\\lib\\site-packages\\statsmodels\\multivariate\\multivariate_ols.py:218: RuntimeWarning: divide by zero encountered in double_scalars\n",
      "  b = (p + 2*n) * (q + 2*n) / 2 / (2*n + 1) / (n - 1)\n"
     ]
    }
   ],
   "source": [
    "pwc_manova('Stream', 'Cottonwood')"
   ]
  },
  {
   "cell_type": "code",
   "execution_count": 52,
   "metadata": {},
   "outputs": [
    {
     "name": "stdout",
     "output_type": "stream",
     "text": [
      "Stream  to Mesquite  Comparison\n",
      "                  Multivariate linear model\n",
      "==============================================================\n",
      "                                                              \n",
      "--------------------------------------------------------------\n",
      "       Intercept         Value   Num DF Den DF F Value  Pr > F\n",
      "--------------------------------------------------------------\n",
      "          Wilks' lambda   0.0014 9.0000 4.0000 323.7363 0.0000\n",
      "         Pillai's trace   0.9986 9.0000 4.0000 323.7363 0.0000\n",
      " Hotelling-Lawley trace 728.4067 9.0000 4.0000 323.7363 0.0000\n",
      "    Roy's greatest root 728.4067 9.0000 4.0000 323.7363 0.0000\n",
      "--------------------------------------------------------------\n",
      "                                                              \n",
      "--------------------------------------------------------------\n",
      "         Habitat          Value   Num DF Den DF F Value Pr > F\n",
      "--------------------------------------------------------------\n",
      "           Wilks' lambda   0.0063 9.0000 4.0000 69.8609 0.0005\n",
      "          Pillai's trace   0.9937 9.0000 4.0000 69.8609 0.0005\n",
      "  Hotelling-Lawley trace 157.1869 9.0000 4.0000 69.8609 0.0005\n",
      "     Roy's greatest root 157.1869 9.0000 4.0000 69.8609 0.0005\n",
      "==============================================================\n",
      "\n"
     ]
    },
    {
     "name": "stderr",
     "output_type": "stream",
     "text": [
      "C:\\Users\\matta\\anaconda3\\lib\\site-packages\\statsmodels\\multivariate\\multivariate_ols.py:218: RuntimeWarning: divide by zero encountered in double_scalars\n",
      "  b = (p + 2*n) * (q + 2*n) / 2 / (2*n + 1) / (n - 1)\n"
     ]
    }
   ],
   "source": [
    "pwc_manova('Stream', 'Mesquite')"
   ]
  },
  {
   "cell_type": "code",
   "execution_count": 53,
   "metadata": {},
   "outputs": [
    {
     "name": "stdout",
     "output_type": "stream",
     "text": [
      "Stream  to Lake  Comparison\n",
      "                   Multivariate linear model\n",
      "================================================================\n",
      "                                                                \n",
      "----------------------------------------------------------------\n",
      "       Intercept          Value   Num DF Den DF  F Value  Pr > F\n",
      "----------------------------------------------------------------\n",
      "          Wilks' lambda    0.0004 9.0000 4.0000 1005.5624 0.0000\n",
      "         Pillai's trace    0.9996 9.0000 4.0000 1005.5624 0.0000\n",
      " Hotelling-Lawley trace 2262.5154 9.0000 4.0000 1005.5624 0.0000\n",
      "    Roy's greatest root 2262.5154 9.0000 4.0000 1005.5624 0.0000\n",
      "----------------------------------------------------------------\n",
      "                                                                \n",
      "----------------------------------------------------------------\n",
      "          Habitat          Value   Num DF Den DF F Value  Pr > F\n",
      "----------------------------------------------------------------\n",
      "            Wilks' lambda   0.0042 9.0000 4.0000 104.4321 0.0002\n",
      "           Pillai's trace   0.9958 9.0000 4.0000 104.4321 0.0002\n",
      "   Hotelling-Lawley trace 234.9721 9.0000 4.0000 104.4321 0.0002\n",
      "      Roy's greatest root 234.9721 9.0000 4.0000 104.4321 0.0002\n",
      "================================================================\n",
      "\n"
     ]
    },
    {
     "name": "stderr",
     "output_type": "stream",
     "text": [
      "C:\\Users\\matta\\anaconda3\\lib\\site-packages\\statsmodels\\multivariate\\multivariate_ols.py:218: RuntimeWarning: divide by zero encountered in double_scalars\n",
      "  b = (p + 2*n) * (q + 2*n) / 2 / (2*n + 1) / (n - 1)\n"
     ]
    }
   ],
   "source": [
    "pwc_manova('Stream', 'Lake')"
   ]
  },
  {
   "cell_type": "code",
   "execution_count": 54,
   "metadata": {},
   "outputs": [
    {
     "name": "stdout",
     "output_type": "stream",
     "text": [
      "Stream  to Palm  Comparison\n",
      "                   Multivariate linear model\n",
      "===============================================================\n",
      "                                                               \n",
      "---------------------------------------------------------------\n",
      "       Intercept          Value   Num DF Den DF F Value  Pr > F\n",
      "---------------------------------------------------------------\n",
      "          Wilks' lambda    0.0009 9.0000 4.0000 473.9104 0.0000\n",
      "         Pillai's trace    0.9991 9.0000 4.0000 473.9104 0.0000\n",
      " Hotelling-Lawley trace 1066.2983 9.0000 4.0000 473.9104 0.0000\n",
      "    Roy's greatest root 1066.2983 9.0000 4.0000 473.9104 0.0000\n",
      "---------------------------------------------------------------\n",
      "                                                               \n",
      "---------------------------------------------------------------\n",
      "          Habitat          Value   Num DF Den DF F Value Pr > F\n",
      "---------------------------------------------------------------\n",
      "            Wilks' lambda   0.0077 9.0000 4.0000 57.3194 0.0007\n",
      "           Pillai's trace   0.9923 9.0000 4.0000 57.3194 0.0007\n",
      "   Hotelling-Lawley trace 128.9687 9.0000 4.0000 57.3194 0.0007\n",
      "      Roy's greatest root 128.9687 9.0000 4.0000 57.3194 0.0007\n",
      "===============================================================\n",
      "\n"
     ]
    },
    {
     "name": "stderr",
     "output_type": "stream",
     "text": [
      "C:\\Users\\matta\\anaconda3\\lib\\site-packages\\statsmodels\\multivariate\\multivariate_ols.py:218: RuntimeWarning: divide by zero encountered in double_scalars\n",
      "  b = (p + 2*n) * (q + 2*n) / 2 / (2*n + 1) / (n - 1)\n"
     ]
    }
   ],
   "source": [
    "pwc_manova('Stream', 'Palm')"
   ]
  },
  {
   "cell_type": "code",
   "execution_count": 55,
   "metadata": {},
   "outputs": [
    {
     "name": "stdout",
     "output_type": "stream",
     "text": [
      "Cottonwood  to Mesquite  Comparison\n",
      "                   Multivariate linear model\n",
      "===============================================================\n",
      "                                                               \n",
      "---------------------------------------------------------------\n",
      "       Intercept          Value   Num DF Den DF F Value  Pr > F\n",
      "---------------------------------------------------------------\n",
      "          Wilks' lambda    0.0008 9.0000 4.0000 542.2553 0.0000\n",
      "         Pillai's trace    0.9992 9.0000 4.0000 542.2553 0.0000\n",
      " Hotelling-Lawley trace 1220.0744 9.0000 4.0000 542.2553 0.0000\n",
      "    Roy's greatest root 1220.0744 9.0000 4.0000 542.2553 0.0000\n",
      "---------------------------------------------------------------\n",
      "                                                               \n",
      "---------------------------------------------------------------\n",
      "           Habitat          Value  Num DF Den DF F Value Pr > F\n",
      "---------------------------------------------------------------\n",
      "             Wilks' lambda  0.0176 9.0000 4.0000 24.8400 0.0037\n",
      "            Pillai's trace  0.9824 9.0000 4.0000 24.8400 0.0037\n",
      "    Hotelling-Lawley trace 55.8899 9.0000 4.0000 24.8400 0.0037\n",
      "       Roy's greatest root 55.8899 9.0000 4.0000 24.8400 0.0037\n",
      "===============================================================\n",
      "\n"
     ]
    },
    {
     "name": "stderr",
     "output_type": "stream",
     "text": [
      "C:\\Users\\matta\\anaconda3\\lib\\site-packages\\statsmodels\\multivariate\\multivariate_ols.py:218: RuntimeWarning: divide by zero encountered in double_scalars\n",
      "  b = (p + 2*n) * (q + 2*n) / 2 / (2*n + 1) / (n - 1)\n"
     ]
    }
   ],
   "source": [
    "pwc_manova('Cottonwood', 'Mesquite')"
   ]
  },
  {
   "cell_type": "code",
   "execution_count": 56,
   "metadata": {},
   "outputs": [
    {
     "name": "stdout",
     "output_type": "stream",
     "text": [
      "Cottonwood  to Lake  Comparison\n",
      "                   Multivariate linear model\n",
      "================================================================\n",
      "                                                                \n",
      "----------------------------------------------------------------\n",
      "       Intercept          Value   Num DF Den DF  F Value  Pr > F\n",
      "----------------------------------------------------------------\n",
      "          Wilks' lambda    0.0003 9.0000 4.0000 1649.2857 0.0000\n",
      "         Pillai's trace    0.9997 9.0000 4.0000 1649.2857 0.0000\n",
      " Hotelling-Lawley trace 3710.8929 9.0000 4.0000 1649.2857 0.0000\n",
      "    Roy's greatest root 3710.8929 9.0000 4.0000 1649.2857 0.0000\n",
      "----------------------------------------------------------------\n",
      "                                                                \n",
      "----------------------------------------------------------------\n",
      "            Habitat          Value  Num DF Den DF F Value Pr > F\n",
      "----------------------------------------------------------------\n",
      "              Wilks' lambda  0.0150 9.0000 4.0000 29.1230 0.0027\n",
      "             Pillai's trace  0.9850 9.0000 4.0000 29.1230 0.0027\n",
      "     Hotelling-Lawley trace 65.5266 9.0000 4.0000 29.1230 0.0027\n",
      "        Roy's greatest root 65.5266 9.0000 4.0000 29.1230 0.0027\n",
      "================================================================\n",
      "\n"
     ]
    },
    {
     "name": "stderr",
     "output_type": "stream",
     "text": [
      "C:\\Users\\matta\\anaconda3\\lib\\site-packages\\statsmodels\\multivariate\\multivariate_ols.py:218: RuntimeWarning: divide by zero encountered in double_scalars\n",
      "  b = (p + 2*n) * (q + 2*n) / 2 / (2*n + 1) / (n - 1)\n"
     ]
    }
   ],
   "source": [
    "pwc_manova('Cottonwood', 'Lake')"
   ]
  },
  {
   "cell_type": "code",
   "execution_count": 57,
   "metadata": {},
   "outputs": [
    {
     "name": "stdout",
     "output_type": "stream",
     "text": [
      "Cottonwood  to Palm  Comparison\n",
      "                   Multivariate linear model\n",
      "===============================================================\n",
      "                                                               \n",
      "---------------------------------------------------------------\n",
      "       Intercept          Value   Num DF Den DF F Value  Pr > F\n",
      "---------------------------------------------------------------\n",
      "          Wilks' lambda    0.0009 9.0000 4.0000 471.4398 0.0000\n",
      "         Pillai's trace    0.9991 9.0000 4.0000 471.4398 0.0000\n",
      " Hotelling-Lawley trace 1060.7397 9.0000 4.0000 471.4398 0.0000\n",
      "    Roy's greatest root 1060.7397 9.0000 4.0000 471.4398 0.0000\n",
      "---------------------------------------------------------------\n",
      "                                                               \n",
      "---------------------------------------------------------------\n",
      "          Habitat          Value   Num DF Den DF F Value Pr > F\n",
      "---------------------------------------------------------------\n",
      "            Wilks' lambda   0.0095 9.0000 4.0000 46.3290 0.0011\n",
      "           Pillai's trace   0.9905 9.0000 4.0000 46.3290 0.0011\n",
      "   Hotelling-Lawley trace 104.2403 9.0000 4.0000 46.3290 0.0011\n",
      "      Roy's greatest root 104.2403 9.0000 4.0000 46.3290 0.0011\n",
      "===============================================================\n",
      "\n"
     ]
    },
    {
     "name": "stderr",
     "output_type": "stream",
     "text": [
      "C:\\Users\\matta\\anaconda3\\lib\\site-packages\\statsmodels\\multivariate\\multivariate_ols.py:218: RuntimeWarning: divide by zero encountered in double_scalars\n",
      "  b = (p + 2*n) * (q + 2*n) / 2 / (2*n + 1) / (n - 1)\n"
     ]
    }
   ],
   "source": [
    "pwc_manova('Cottonwood', 'Palm')"
   ]
  },
  {
   "cell_type": "code",
   "execution_count": 58,
   "metadata": {},
   "outputs": [
    {
     "name": "stdout",
     "output_type": "stream",
     "text": [
      "Mesquite  to Lake  Comparison\n",
      "                   Multivariate linear model\n",
      "===============================================================\n",
      "                                                               \n",
      "---------------------------------------------------------------\n",
      "       Intercept          Value   Num DF Den DF F Value  Pr > F\n",
      "---------------------------------------------------------------\n",
      "          Wilks' lambda    0.0007 9.0000 4.0000 594.8837 0.0000\n",
      "         Pillai's trace    0.9993 9.0000 4.0000 594.8837 0.0000\n",
      " Hotelling-Lawley trace 1338.4883 9.0000 4.0000 594.8837 0.0000\n",
      "    Roy's greatest root 1338.4883 9.0000 4.0000 594.8837 0.0000\n",
      "---------------------------------------------------------------\n",
      "                                                               \n",
      "---------------------------------------------------------------\n",
      "         Habitat          Value   Num DF Den DF F Value  Pr > F\n",
      "---------------------------------------------------------------\n",
      "           Wilks' lambda   0.0035 9.0000 4.0000 124.8277 0.0002\n",
      "          Pillai's trace   0.9965 9.0000 4.0000 124.8277 0.0002\n",
      "  Hotelling-Lawley trace 280.8624 9.0000 4.0000 124.8277 0.0002\n",
      "     Roy's greatest root 280.8624 9.0000 4.0000 124.8277 0.0002\n",
      "===============================================================\n",
      "\n"
     ]
    },
    {
     "name": "stderr",
     "output_type": "stream",
     "text": [
      "C:\\Users\\matta\\anaconda3\\lib\\site-packages\\statsmodels\\multivariate\\multivariate_ols.py:218: RuntimeWarning: divide by zero encountered in double_scalars\n",
      "  b = (p + 2*n) * (q + 2*n) / 2 / (2*n + 1) / (n - 1)\n"
     ]
    }
   ],
   "source": [
    "pwc_manova('Mesquite', 'Lake')"
   ]
  },
  {
   "cell_type": "code",
   "execution_count": 59,
   "metadata": {},
   "outputs": [
    {
     "name": "stdout",
     "output_type": "stream",
     "text": [
      "Mesquite  to Palm  Comparison\n",
      "                  Multivariate linear model\n",
      "=============================================================\n",
      "                                                             \n",
      "-------------------------------------------------------------\n",
      "       Intercept         Value   Num DF Den DF F Value Pr > F\n",
      "-------------------------------------------------------------\n",
      "          Wilks' lambda   0.0062 9.0000 4.0000 70.6859 0.0005\n",
      "         Pillai's trace   0.9938 9.0000 4.0000 70.6859 0.0005\n",
      " Hotelling-Lawley trace 159.0433 9.0000 4.0000 70.6859 0.0005\n",
      "    Roy's greatest root 159.0433 9.0000 4.0000 70.6859 0.0005\n",
      "-------------------------------------------------------------\n",
      "                                                             \n",
      "-------------------------------------------------------------\n",
      "         Habitat          Value  Num DF Den DF F Value Pr > F\n",
      "-------------------------------------------------------------\n",
      "           Wilks' lambda  0.0181 9.0000 4.0000 24.1206 0.0039\n",
      "          Pillai's trace  0.9819 9.0000 4.0000 24.1206 0.0039\n",
      "  Hotelling-Lawley trace 54.2714 9.0000 4.0000 24.1206 0.0039\n",
      "     Roy's greatest root 54.2714 9.0000 4.0000 24.1206 0.0039\n",
      "=============================================================\n",
      "\n"
     ]
    },
    {
     "name": "stderr",
     "output_type": "stream",
     "text": [
      "C:\\Users\\matta\\anaconda3\\lib\\site-packages\\statsmodels\\multivariate\\multivariate_ols.py:218: RuntimeWarning: divide by zero encountered in double_scalars\n",
      "  b = (p + 2*n) * (q + 2*n) / 2 / (2*n + 1) / (n - 1)\n"
     ]
    }
   ],
   "source": [
    "pwc_manova('Mesquite', 'Palm')"
   ]
  },
  {
   "cell_type": "code",
   "execution_count": 60,
   "metadata": {},
   "outputs": [
    {
     "name": "stdout",
     "output_type": "stream",
     "text": [
      "Lake  to Palm  Comparison\n",
      "                   Multivariate linear model\n",
      "================================================================\n",
      "                                                                \n",
      "----------------------------------------------------------------\n",
      "       Intercept          Value   Num DF Den DF  F Value  Pr > F\n",
      "----------------------------------------------------------------\n",
      "          Wilks' lambda    0.0002 9.0000 4.0000 2388.7412 0.0000\n",
      "         Pillai's trace    0.9998 9.0000 4.0000 2388.7412 0.0000\n",
      " Hotelling-Lawley trace 5374.6676 9.0000 4.0000 2388.7412 0.0000\n",
      "    Roy's greatest root 5374.6676 9.0000 4.0000 2388.7412 0.0000\n",
      "----------------------------------------------------------------\n",
      "                                                                \n",
      "----------------------------------------------------------------\n",
      "          Habitat          Value   Num DF Den DF F Value  Pr > F\n",
      "----------------------------------------------------------------\n",
      "            Wilks' lambda   0.0026 9.0000 4.0000 170.4548 0.0001\n",
      "           Pillai's trace   0.9974 9.0000 4.0000 170.4548 0.0001\n",
      "   Hotelling-Lawley trace 383.5234 9.0000 4.0000 170.4548 0.0001\n",
      "      Roy's greatest root 383.5234 9.0000 4.0000 170.4548 0.0001\n",
      "================================================================\n",
      "\n"
     ]
    },
    {
     "name": "stderr",
     "output_type": "stream",
     "text": [
      "C:\\Users\\matta\\anaconda3\\lib\\site-packages\\statsmodels\\multivariate\\multivariate_ols.py:218: RuntimeWarning: divide by zero encountered in double_scalars\n",
      "  b = (p + 2*n) * (q + 2*n) / 2 / (2*n + 1) / (n - 1)\n"
     ]
    }
   ],
   "source": [
    "pwc_manova('Lake', 'Palm')"
   ]
  },
  {
   "cell_type": "markdown",
   "metadata": {},
   "source": [
    "There are statistically significant differences between all habitat types for the bat communities.  Only Stream1 and Stream were found to not have statistically significant differences between each other.  This was to be expected being they are the same habitat type sampled during different weeks during the test period."
   ]
  },
  {
   "cell_type": "markdown",
   "metadata": {},
   "source": [
    "# Conclusion"
   ]
  },
  {
   "cell_type": "markdown",
   "metadata": {},
   "source": [
    "* 20 species were identified across all habitats\n",
    "\n",
    "* The cottonwood-willow pond shore (Lake) had overall most bat detections with over 1500 average nightly detections, which was significantly greater than the habitat with the second most detections. The habitat with the second most detections was the willow-palm-cottonwood-mesquite habitat (Palm) with approxymately 750 detections per night.\n",
    "\n",
    "* Mesquite bosque (Mesquite) had the least number of total nightly detections with less than 100 per night.\n",
    "\n",
    "* The seven most common species were the Mexican Free-Tailed Bat (TADBRA), Big Brown Bat (EPTFUS), Silver-Haired Bat (LASNOC), Western Yellow Bat (LASXAN), Western Small-footed Myotis (MYOCIL), Cave Myotis (MYOVEL), and Canyon Bat (PARHES).  Of these species the Mexican Free-Tailed bat was the most abundant.\n",
    "\n",
    "* Each species was found to have a different habitat preference.\n",
    "\n",
    "* Each habitat had a unique bat community."
   ]
  },
  {
   "cell_type": "code",
   "execution_count": null,
   "metadata": {},
   "outputs": [],
   "source": []
  }
 ],
 "metadata": {
  "kernelspec": {
   "display_name": "Python 3",
   "language": "python",
   "name": "python3"
  },
  "language_info": {
   "codemirror_mode": {
    "name": "ipython",
    "version": 3
   },
   "file_extension": ".py",
   "mimetype": "text/x-python",
   "name": "python",
   "nbconvert_exporter": "python",
   "pygments_lexer": "ipython3",
   "version": "3.8.3"
  },
  "toc": {
   "base_numbering": 1,
   "nav_menu": {},
   "number_sections": true,
   "sideBar": true,
   "skip_h1_title": false,
   "title_cell": "Table of Contents",
   "title_sidebar": "Contents",
   "toc_cell": true,
   "toc_position": {},
   "toc_section_display": true,
   "toc_window_display": false
  }
 },
 "nbformat": 4,
 "nbformat_minor": 4
}
